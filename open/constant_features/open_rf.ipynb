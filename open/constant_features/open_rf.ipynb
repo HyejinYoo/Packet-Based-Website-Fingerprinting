{
 "cells": [
  {
   "cell_type": "markdown",
   "source": [
    "# Load Data\n",
    "## multi-class"
   ],
   "metadata": {
    "collapsed": false
   }
  },
  {
   "cell_type": "code",
   "execution_count": 38,
   "outputs": [],
   "source": [
    "import pandas as pd\n",
    "\n",
    "# Load data\n",
    "data = pd.read_csv('nor_constant_o.csv')\n",
    "X = data\n",
    "X = X.drop(\n",
    "    ['out_num_30_o', 'in_sum_30_o',], axis=1) # 필요없는 피쳐 제외하기\n",
    "y_mul = pd.read_csv('y_mul.csv').iloc[:, -1]"
   ],
   "metadata": {
    "collapsed": false,
    "ExecuteTime": {
     "end_time": "2023-12-07T13:36:05.576418100Z",
     "start_time": "2023-12-07T13:36:05.319346500Z"
    }
   }
  },
  {
   "cell_type": "code",
   "execution_count": 39,
   "outputs": [
    {
     "data": {
      "text/plain": "   std_dev_in_o  std_dev_out_o  avg_in_o  avg_out_o  in_pack_sum_o  \\\n0        0.4325         0.0225    0.6741     0.0419         0.8682   \n1        0.2969         0.0223    0.8333     0.0534         0.9573   \n2        0.4160         0.0192    0.6817     0.0420         0.8744   \n3        0.4341         0.0165    0.6766     0.0398         0.8657   \n4        0.4006         0.0172    0.6811     0.0345         0.8691   \n\n   out_pack_num_o  in_pack_num_o  out_pack_ratio_o  in_pack_ratio_o  \\\n0          0.0258         0.1318            0.1153           0.8847   \n1          0.0166         0.0427            0.2600           0.7400   \n2          0.0251         0.1256            0.1195           0.8805   \n3          0.0260         0.1343            0.1132           0.8868   \n4          0.0245         0.1309            0.1090           0.8910   \n\n   total_pack_num_o  ...  sum_med_o  std_dev_med_o  avg_med_o  \\\n0            0.1379  ...     0.0152         0.0597     0.0740   \n1            0.0471  ...     0.0083         0.0477     0.0673   \n2            0.1315  ...     0.0187         0.0656     0.0969   \n3            0.1404  ...     0.0223         0.0980     0.1121   \n4            0.1364  ...     0.0171         0.0707     0.0837   \n\n   sum_burst_med_o  avg_burst_med_o  std_burst_med_o  in_num_30_o  \\\n0           0.0015           0.0143           0.0141       0.6248   \n1           0.0005           0.0077           0.0069       0.6248   \n2           0.0017           0.0170           0.0155       0.6886   \n3           0.0022           0.0212           0.0215       0.6248   \n4           0.0017           0.0161           0.0163       0.6248   \n\n   out_sum_30_o  total_sum_pack_per_sec_o  total_num_pack_per_sec_o  \n0        0.4615                    0.7140                    0.2240  \n1        0.4615                    0.7768                    0.2082  \n2        0.4667                    0.7758                    0.1714  \n3        0.4615                    0.7934                    0.1556  \n4        0.4615                    0.7351                    0.2040  \n\n[5 rows x 22 columns]",
      "text/html": "<div>\n<style scoped>\n    .dataframe tbody tr th:only-of-type {\n        vertical-align: middle;\n    }\n\n    .dataframe tbody tr th {\n        vertical-align: top;\n    }\n\n    .dataframe thead th {\n        text-align: right;\n    }\n</style>\n<table border=\"1\" class=\"dataframe\">\n  <thead>\n    <tr style=\"text-align: right;\">\n      <th></th>\n      <th>std_dev_in_o</th>\n      <th>std_dev_out_o</th>\n      <th>avg_in_o</th>\n      <th>avg_out_o</th>\n      <th>in_pack_sum_o</th>\n      <th>out_pack_num_o</th>\n      <th>in_pack_num_o</th>\n      <th>out_pack_ratio_o</th>\n      <th>in_pack_ratio_o</th>\n      <th>total_pack_num_o</th>\n      <th>...</th>\n      <th>sum_med_o</th>\n      <th>std_dev_med_o</th>\n      <th>avg_med_o</th>\n      <th>sum_burst_med_o</th>\n      <th>avg_burst_med_o</th>\n      <th>std_burst_med_o</th>\n      <th>in_num_30_o</th>\n      <th>out_sum_30_o</th>\n      <th>total_sum_pack_per_sec_o</th>\n      <th>total_num_pack_per_sec_o</th>\n    </tr>\n  </thead>\n  <tbody>\n    <tr>\n      <th>0</th>\n      <td>0.4325</td>\n      <td>0.0225</td>\n      <td>0.6741</td>\n      <td>0.0419</td>\n      <td>0.8682</td>\n      <td>0.0258</td>\n      <td>0.1318</td>\n      <td>0.1153</td>\n      <td>0.8847</td>\n      <td>0.1379</td>\n      <td>...</td>\n      <td>0.0152</td>\n      <td>0.0597</td>\n      <td>0.0740</td>\n      <td>0.0015</td>\n      <td>0.0143</td>\n      <td>0.0141</td>\n      <td>0.6248</td>\n      <td>0.4615</td>\n      <td>0.7140</td>\n      <td>0.2240</td>\n    </tr>\n    <tr>\n      <th>1</th>\n      <td>0.2969</td>\n      <td>0.0223</td>\n      <td>0.8333</td>\n      <td>0.0534</td>\n      <td>0.9573</td>\n      <td>0.0166</td>\n      <td>0.0427</td>\n      <td>0.2600</td>\n      <td>0.7400</td>\n      <td>0.0471</td>\n      <td>...</td>\n      <td>0.0083</td>\n      <td>0.0477</td>\n      <td>0.0673</td>\n      <td>0.0005</td>\n      <td>0.0077</td>\n      <td>0.0069</td>\n      <td>0.6248</td>\n      <td>0.4615</td>\n      <td>0.7768</td>\n      <td>0.2082</td>\n    </tr>\n    <tr>\n      <th>2</th>\n      <td>0.4160</td>\n      <td>0.0192</td>\n      <td>0.6817</td>\n      <td>0.0420</td>\n      <td>0.8744</td>\n      <td>0.0251</td>\n      <td>0.1256</td>\n      <td>0.1195</td>\n      <td>0.8805</td>\n      <td>0.1315</td>\n      <td>...</td>\n      <td>0.0187</td>\n      <td>0.0656</td>\n      <td>0.0969</td>\n      <td>0.0017</td>\n      <td>0.0170</td>\n      <td>0.0155</td>\n      <td>0.6886</td>\n      <td>0.4667</td>\n      <td>0.7758</td>\n      <td>0.1714</td>\n    </tr>\n    <tr>\n      <th>3</th>\n      <td>0.4341</td>\n      <td>0.0165</td>\n      <td>0.6766</td>\n      <td>0.0398</td>\n      <td>0.8657</td>\n      <td>0.0260</td>\n      <td>0.1343</td>\n      <td>0.1132</td>\n      <td>0.8868</td>\n      <td>0.1404</td>\n      <td>...</td>\n      <td>0.0223</td>\n      <td>0.0980</td>\n      <td>0.1121</td>\n      <td>0.0022</td>\n      <td>0.0212</td>\n      <td>0.0215</td>\n      <td>0.6248</td>\n      <td>0.4615</td>\n      <td>0.7934</td>\n      <td>0.1556</td>\n    </tr>\n    <tr>\n      <th>4</th>\n      <td>0.4006</td>\n      <td>0.0172</td>\n      <td>0.6811</td>\n      <td>0.0345</td>\n      <td>0.8691</td>\n      <td>0.0245</td>\n      <td>0.1309</td>\n      <td>0.1090</td>\n      <td>0.8910</td>\n      <td>0.1364</td>\n      <td>...</td>\n      <td>0.0171</td>\n      <td>0.0707</td>\n      <td>0.0837</td>\n      <td>0.0017</td>\n      <td>0.0161</td>\n      <td>0.0163</td>\n      <td>0.6248</td>\n      <td>0.4615</td>\n      <td>0.7351</td>\n      <td>0.2040</td>\n    </tr>\n  </tbody>\n</table>\n<p>5 rows × 22 columns</p>\n</div>"
     },
     "execution_count": 39,
     "metadata": {},
     "output_type": "execute_result"
    }
   ],
   "source": [
    "X.head()"
   ],
   "metadata": {
    "collapsed": false,
    "ExecuteTime": {
     "end_time": "2023-12-07T13:36:05.591418400Z",
     "start_time": "2023-12-07T13:36:05.445974700Z"
    }
   }
  },
  {
   "cell_type": "code",
   "execution_count": 40,
   "outputs": [
    {
     "data": {
      "text/plain": "23995    95\n23996    95\n23997    95\n23998    95\n23999    95\nName: y, dtype: int64"
     },
     "execution_count": 40,
     "metadata": {},
     "output_type": "execute_result"
    }
   ],
   "source": [
    "y_mul.tail()"
   ],
   "metadata": {
    "collapsed": false,
    "ExecuteTime": {
     "end_time": "2023-12-07T13:36:05.591418400Z",
     "start_time": "2023-12-07T13:36:05.497418900Z"
    }
   }
  },
  {
   "cell_type": "code",
   "execution_count": 41,
   "outputs": [],
   "source": [
    "from sklearn.model_selection import train_test_split\n",
    "\n",
    "X_train, X_test, y_train_mul, y_test_mul = train_test_split(X, y_mul, test_size=0.2, random_state=1)"
   ],
   "metadata": {
    "collapsed": false,
    "ExecuteTime": {
     "end_time": "2023-12-07T13:36:05.592447700Z",
     "start_time": "2023-12-07T13:36:05.524419600Z"
    }
   }
  },
  {
   "cell_type": "markdown",
   "source": [
    "## Train the model(RF)"
   ],
   "metadata": {
    "collapsed": false
   }
  },
  {
   "cell_type": "code",
   "execution_count": 42,
   "outputs": [
    {
     "data": {
      "text/plain": "RandomForestClassifier(max_depth=30, n_estimators=200)",
      "text/html": "<style>#sk-container-id-7 {color: black;}#sk-container-id-7 pre{padding: 0;}#sk-container-id-7 div.sk-toggleable {background-color: white;}#sk-container-id-7 label.sk-toggleable__label {cursor: pointer;display: block;width: 100%;margin-bottom: 0;padding: 0.3em;box-sizing: border-box;text-align: center;}#sk-container-id-7 label.sk-toggleable__label-arrow:before {content: \"▸\";float: left;margin-right: 0.25em;color: #696969;}#sk-container-id-7 label.sk-toggleable__label-arrow:hover:before {color: black;}#sk-container-id-7 div.sk-estimator:hover label.sk-toggleable__label-arrow:before {color: black;}#sk-container-id-7 div.sk-toggleable__content {max-height: 0;max-width: 0;overflow: hidden;text-align: left;background-color: #f0f8ff;}#sk-container-id-7 div.sk-toggleable__content pre {margin: 0.2em;color: black;border-radius: 0.25em;background-color: #f0f8ff;}#sk-container-id-7 input.sk-toggleable__control:checked~div.sk-toggleable__content {max-height: 200px;max-width: 100%;overflow: auto;}#sk-container-id-7 input.sk-toggleable__control:checked~label.sk-toggleable__label-arrow:before {content: \"▾\";}#sk-container-id-7 div.sk-estimator input.sk-toggleable__control:checked~label.sk-toggleable__label {background-color: #d4ebff;}#sk-container-id-7 div.sk-label input.sk-toggleable__control:checked~label.sk-toggleable__label {background-color: #d4ebff;}#sk-container-id-7 input.sk-hidden--visually {border: 0;clip: rect(1px 1px 1px 1px);clip: rect(1px, 1px, 1px, 1px);height: 1px;margin: -1px;overflow: hidden;padding: 0;position: absolute;width: 1px;}#sk-container-id-7 div.sk-estimator {font-family: monospace;background-color: #f0f8ff;border: 1px dotted black;border-radius: 0.25em;box-sizing: border-box;margin-bottom: 0.5em;}#sk-container-id-7 div.sk-estimator:hover {background-color: #d4ebff;}#sk-container-id-7 div.sk-parallel-item::after {content: \"\";width: 100%;border-bottom: 1px solid gray;flex-grow: 1;}#sk-container-id-7 div.sk-label:hover label.sk-toggleable__label {background-color: #d4ebff;}#sk-container-id-7 div.sk-serial::before {content: \"\";position: absolute;border-left: 1px solid gray;box-sizing: border-box;top: 0;bottom: 0;left: 50%;z-index: 0;}#sk-container-id-7 div.sk-serial {display: flex;flex-direction: column;align-items: center;background-color: white;padding-right: 0.2em;padding-left: 0.2em;position: relative;}#sk-container-id-7 div.sk-item {position: relative;z-index: 1;}#sk-container-id-7 div.sk-parallel {display: flex;align-items: stretch;justify-content: center;background-color: white;position: relative;}#sk-container-id-7 div.sk-item::before, #sk-container-id-7 div.sk-parallel-item::before {content: \"\";position: absolute;border-left: 1px solid gray;box-sizing: border-box;top: 0;bottom: 0;left: 50%;z-index: -1;}#sk-container-id-7 div.sk-parallel-item {display: flex;flex-direction: column;z-index: 1;position: relative;background-color: white;}#sk-container-id-7 div.sk-parallel-item:first-child::after {align-self: flex-end;width: 50%;}#sk-container-id-7 div.sk-parallel-item:last-child::after {align-self: flex-start;width: 50%;}#sk-container-id-7 div.sk-parallel-item:only-child::after {width: 0;}#sk-container-id-7 div.sk-dashed-wrapped {border: 1px dashed gray;margin: 0 0.4em 0.5em 0.4em;box-sizing: border-box;padding-bottom: 0.4em;background-color: white;}#sk-container-id-7 div.sk-label label {font-family: monospace;font-weight: bold;display: inline-block;line-height: 1.2em;}#sk-container-id-7 div.sk-label-container {text-align: center;}#sk-container-id-7 div.sk-container {/* jupyter's `normalize.less` sets `[hidden] { display: none; }` but bootstrap.min.css set `[hidden] { display: none !important; }` so we also need the `!important` here to be able to override the default hidden behavior on the sphinx rendered scikit-learn.org. See: https://github.com/scikit-learn/scikit-learn/issues/21755 */display: inline-block !important;position: relative;}#sk-container-id-7 div.sk-text-repr-fallback {display: none;}</style><div id=\"sk-container-id-7\" class=\"sk-top-container\"><div class=\"sk-text-repr-fallback\"><pre>RandomForestClassifier(max_depth=30, n_estimators=200)</pre><b>In a Jupyter environment, please rerun this cell to show the HTML representation or trust the notebook. <br />On GitHub, the HTML representation is unable to render, please try loading this page with nbviewer.org.</b></div><div class=\"sk-container\" hidden><div class=\"sk-item\"><div class=\"sk-estimator sk-toggleable\"><input class=\"sk-toggleable__control sk-hidden--visually\" id=\"sk-estimator-id-7\" type=\"checkbox\" checked><label for=\"sk-estimator-id-7\" class=\"sk-toggleable__label sk-toggleable__label-arrow\">RandomForestClassifier</label><div class=\"sk-toggleable__content\"><pre>RandomForestClassifier(max_depth=30, n_estimators=200)</pre></div></div></div></div></div>"
     },
     "execution_count": 42,
     "metadata": {},
     "output_type": "execute_result"
    }
   ],
   "source": [
    "from sklearn.ensemble import RandomForestClassifier\n",
    "\n",
    "# RF model\n",
    "model_rf = RandomForestClassifier(max_depth=30, min_samples_leaf=1, min_samples_split=2, n_estimators=200) # best param\n",
    "model_name = 'RF'\n",
    "\n",
    "model_rf.fit(X_train, y_train_mul)"
   ],
   "metadata": {
    "collapsed": false,
    "ExecuteTime": {
     "end_time": "2023-12-07T13:37:05.466976400Z",
     "start_time": "2023-12-07T13:36:05.564423200Z"
    }
   }
  },
  {
   "cell_type": "markdown",
   "source": [
    "## Test and evaluate"
   ],
   "metadata": {
    "collapsed": false
   }
  },
  {
   "cell_type": "code",
   "execution_count": 43,
   "outputs": [
    {
     "name": "stdout",
     "output_type": "stream",
     "text": [
      "Confusion Matrix:\n",
      "[[ 24   0   0 ...   0   1   9]\n",
      " [  0  20   0 ...   0   0   9]\n",
      " [  0   0  29 ...   0   0  12]\n",
      " ...\n",
      " [  0   0   0 ...  36   0   0]\n",
      " [  0   0   0 ...   0  25   5]\n",
      " [  1   4   3 ...   2   1 786]]\n",
      "Classification Report:\n",
      "              precision    recall  f1-score   support\n",
      "\n",
      "           0       0.73      0.48      0.58        50\n",
      "           1       0.71      0.54      0.62        37\n",
      "           2       0.78      0.63      0.70        46\n",
      "           3       0.72      0.78      0.75        36\n",
      "           4       0.70      0.55      0.62        47\n",
      "           5       0.75      0.88      0.81        34\n",
      "           6       0.91      0.87      0.89        46\n",
      "           7       0.87      0.89      0.88        38\n",
      "           8       0.75      0.75      0.75        36\n",
      "           9       0.74      0.70      0.72        50\n",
      "          10       0.97      0.59      0.73        49\n",
      "          11       0.59      0.54      0.57        35\n",
      "          12       0.87      0.92      0.89        50\n",
      "          13       0.62      0.45      0.52        40\n",
      "          14       0.61      0.44      0.51        39\n",
      "          15       0.70      0.67      0.68        48\n",
      "          16       0.79      0.63      0.70        41\n",
      "          17       0.79      0.61      0.69        31\n",
      "          18       0.88      0.90      0.89        40\n",
      "          19       0.82      0.88      0.85        42\n",
      "          20       0.83      0.92      0.88        38\n",
      "          21       0.58      0.28      0.37        40\n",
      "          22       0.66      0.71      0.68        38\n",
      "          23       0.81      0.76      0.78        45\n",
      "          24       0.37      0.29      0.33        45\n",
      "          25       0.84      0.78      0.81        41\n",
      "          26       0.76      0.91      0.83        35\n",
      "          27       0.84      0.67      0.74        39\n",
      "          28       0.92      0.69      0.79        51\n",
      "          29       0.63      0.56      0.59        43\n",
      "          30       0.87      0.80      0.84        41\n",
      "          31       0.83      0.62      0.71        40\n",
      "          32       0.51      0.45      0.48        42\n",
      "          33       0.83      0.87      0.85        39\n",
      "          34       0.57      0.27      0.37        44\n",
      "          35       0.63      0.53      0.58        36\n",
      "          36       0.76      0.79      0.78        33\n",
      "          37       0.65      0.36      0.46        36\n",
      "          38       0.49      0.61      0.54        33\n",
      "          39       0.81      0.74      0.78        35\n",
      "          40       0.74      0.60      0.67        48\n",
      "          41       0.94      0.90      0.92        50\n",
      "          42       0.61      0.61      0.61        51\n",
      "          43       0.72      0.70      0.71        37\n",
      "          44       0.96      1.00      0.98        45\n",
      "          45       0.55      0.52      0.54        42\n",
      "          46       0.93      0.68      0.79        41\n",
      "          47       0.64      0.70      0.67        40\n",
      "          48       0.94      0.69      0.79        45\n",
      "          49       0.79      0.77      0.78        44\n",
      "          50       0.74      0.86      0.80        37\n",
      "          51       0.64      0.68      0.66        37\n",
      "          52       0.71      0.76      0.74        33\n",
      "          53       0.79      0.60      0.68        43\n",
      "          54       0.80      0.83      0.81        42\n",
      "          55       0.58      0.56      0.57        34\n",
      "          56       0.89      0.89      0.89        36\n",
      "          57       0.64      0.60      0.62        45\n",
      "          58       0.75      0.80      0.77        49\n",
      "          59       0.90      1.00      0.95        38\n",
      "          60       0.71      0.66      0.68        38\n",
      "          61       0.81      0.83      0.82        36\n",
      "          62       0.63      0.58      0.60        45\n",
      "          63       0.65      0.48      0.55        42\n",
      "          64       0.75      0.75      0.75        40\n",
      "          65       0.63      0.49      0.55        39\n",
      "          66       0.61      0.63      0.62        49\n",
      "          67       0.89      0.80      0.85        41\n",
      "          68       0.72      0.46      0.56        50\n",
      "          69       0.54      0.50      0.52        38\n",
      "          70       0.88      0.93      0.90        40\n",
      "          71       0.58      0.71      0.64        35\n",
      "          72       0.63      0.63      0.63        27\n",
      "          73       0.70      0.89      0.79        37\n",
      "          74       0.59      0.68      0.63        34\n",
      "          75       0.85      0.95      0.90        42\n",
      "          76       0.91      0.88      0.89        48\n",
      "          77       0.61      0.51      0.56        37\n",
      "          78       0.67      0.60      0.63        47\n",
      "          79       0.60      0.58      0.59        36\n",
      "          80       0.81      0.83      0.82        35\n",
      "          81       0.67      0.63      0.65        35\n",
      "          82       0.77      0.60      0.68        40\n",
      "          83       0.73      0.76      0.75        29\n",
      "          84       0.57      0.63      0.60        38\n",
      "          85       0.69      0.81      0.75        27\n",
      "          86       0.97      0.97      0.97        40\n",
      "          87       0.97      0.84      0.90        38\n",
      "          88       0.73      0.88      0.80        40\n",
      "          89       0.47      0.47      0.47        38\n",
      "          90       0.61      0.78      0.68        32\n",
      "          91       0.78      0.66      0.72        44\n",
      "          92       0.67      0.41      0.51        34\n",
      "          93       0.80      0.95      0.87        38\n",
      "          94       0.66      0.50      0.57        50\n",
      "          95       0.63      0.81      0.71       975\n",
      "\n",
      "    accuracy                           0.71      4800\n",
      "   macro avg       0.73      0.69      0.70      4800\n",
      "weighted avg       0.72      0.71      0.71      4800\n",
      "\n",
      "Accuracy: 0.71\n"
     ]
    }
   ],
   "source": [
    "# Test the trained model using testing data and report the accuracy and confusion matrix.\n",
    "from sklearn.metrics import classification_report, confusion_matrix, accuracy_score\n",
    "\n",
    "\n",
    "y_pred_mul = model_rf.predict(X_test)\n",
    "\n",
    "result = confusion_matrix(y_test_mul, y_pred_mul)\n",
    "print(\"Confusion Matrix:\")\n",
    "print(result)\n",
    "result1 = classification_report(y_test_mul, y_pred_mul)\n",
    "print(\"Classification Report:\")\n",
    "print (result1)\n",
    "result2 = accuracy_score(y_test_mul, y_pred_mul)\n",
    "print(\"Accuracy:\",result2)"
   ],
   "metadata": {
    "collapsed": false,
    "ExecuteTime": {
     "end_time": "2023-12-07T13:37:07.578886800Z",
     "start_time": "2023-12-07T13:37:05.476981200Z"
    }
   }
  },
  {
   "cell_type": "markdown",
   "source": [
    "## Baseline"
   ],
   "metadata": {
    "collapsed": false
   }
  },
  {
   "cell_type": "code",
   "execution_count": 44,
   "outputs": [
    {
     "name": "stdout",
     "output_type": "stream",
     "text": [
      "Baseline accuracy by random guessing: 0.011458333333333333\n"
     ]
    }
   ],
   "source": [
    "import numpy as np\n",
    "\n",
    "classes = np.unique(y_test_mul)\n",
    "random_predictions = np.random.choice(classes, size=len(y_test_mul))\n",
    "accuracy = (random_predictions == y_test_mul).mean()\n",
    "\n",
    "print(f\"Baseline accuracy by random guessing: {accuracy}\")"
   ],
   "metadata": {
    "collapsed": false,
    "ExecuteTime": {
     "end_time": "2023-12-07T13:37:07.620424Z",
     "start_time": "2023-12-07T13:37:07.579894300Z"
    }
   }
  },
  {
   "cell_type": "markdown",
   "source": [
    "## Binary classification"
   ],
   "metadata": {
    "collapsed": false
   }
  },
  {
   "cell_type": "code",
   "execution_count": 45,
   "outputs": [],
   "source": [
    "from sklearn.model_selection import train_test_split\n",
    "\n",
    "y_bin = pd.read_csv('y_bin.csv').iloc[:, -1]\n",
    "\n",
    "X_train, X_test, y_train_bin, y_test_bin = train_test_split(X, y_bin, test_size=0.2, random_state=1)"
   ],
   "metadata": {
    "collapsed": false,
    "ExecuteTime": {
     "end_time": "2023-12-07T13:37:07.680064100Z",
     "start_time": "2023-12-07T13:37:07.629060600Z"
    }
   }
  },
  {
   "cell_type": "markdown",
   "source": [
    "## Train the model(RF)"
   ],
   "metadata": {
    "collapsed": false
   }
  },
  {
   "cell_type": "code",
   "execution_count": 46,
   "outputs": [
    {
     "data": {
      "text/plain": "RandomForestClassifier(max_depth=30, n_estimators=200)",
      "text/html": "<style>#sk-container-id-8 {color: black;}#sk-container-id-8 pre{padding: 0;}#sk-container-id-8 div.sk-toggleable {background-color: white;}#sk-container-id-8 label.sk-toggleable__label {cursor: pointer;display: block;width: 100%;margin-bottom: 0;padding: 0.3em;box-sizing: border-box;text-align: center;}#sk-container-id-8 label.sk-toggleable__label-arrow:before {content: \"▸\";float: left;margin-right: 0.25em;color: #696969;}#sk-container-id-8 label.sk-toggleable__label-arrow:hover:before {color: black;}#sk-container-id-8 div.sk-estimator:hover label.sk-toggleable__label-arrow:before {color: black;}#sk-container-id-8 div.sk-toggleable__content {max-height: 0;max-width: 0;overflow: hidden;text-align: left;background-color: #f0f8ff;}#sk-container-id-8 div.sk-toggleable__content pre {margin: 0.2em;color: black;border-radius: 0.25em;background-color: #f0f8ff;}#sk-container-id-8 input.sk-toggleable__control:checked~div.sk-toggleable__content {max-height: 200px;max-width: 100%;overflow: auto;}#sk-container-id-8 input.sk-toggleable__control:checked~label.sk-toggleable__label-arrow:before {content: \"▾\";}#sk-container-id-8 div.sk-estimator input.sk-toggleable__control:checked~label.sk-toggleable__label {background-color: #d4ebff;}#sk-container-id-8 div.sk-label input.sk-toggleable__control:checked~label.sk-toggleable__label {background-color: #d4ebff;}#sk-container-id-8 input.sk-hidden--visually {border: 0;clip: rect(1px 1px 1px 1px);clip: rect(1px, 1px, 1px, 1px);height: 1px;margin: -1px;overflow: hidden;padding: 0;position: absolute;width: 1px;}#sk-container-id-8 div.sk-estimator {font-family: monospace;background-color: #f0f8ff;border: 1px dotted black;border-radius: 0.25em;box-sizing: border-box;margin-bottom: 0.5em;}#sk-container-id-8 div.sk-estimator:hover {background-color: #d4ebff;}#sk-container-id-8 div.sk-parallel-item::after {content: \"\";width: 100%;border-bottom: 1px solid gray;flex-grow: 1;}#sk-container-id-8 div.sk-label:hover label.sk-toggleable__label {background-color: #d4ebff;}#sk-container-id-8 div.sk-serial::before {content: \"\";position: absolute;border-left: 1px solid gray;box-sizing: border-box;top: 0;bottom: 0;left: 50%;z-index: 0;}#sk-container-id-8 div.sk-serial {display: flex;flex-direction: column;align-items: center;background-color: white;padding-right: 0.2em;padding-left: 0.2em;position: relative;}#sk-container-id-8 div.sk-item {position: relative;z-index: 1;}#sk-container-id-8 div.sk-parallel {display: flex;align-items: stretch;justify-content: center;background-color: white;position: relative;}#sk-container-id-8 div.sk-item::before, #sk-container-id-8 div.sk-parallel-item::before {content: \"\";position: absolute;border-left: 1px solid gray;box-sizing: border-box;top: 0;bottom: 0;left: 50%;z-index: -1;}#sk-container-id-8 div.sk-parallel-item {display: flex;flex-direction: column;z-index: 1;position: relative;background-color: white;}#sk-container-id-8 div.sk-parallel-item:first-child::after {align-self: flex-end;width: 50%;}#sk-container-id-8 div.sk-parallel-item:last-child::after {align-self: flex-start;width: 50%;}#sk-container-id-8 div.sk-parallel-item:only-child::after {width: 0;}#sk-container-id-8 div.sk-dashed-wrapped {border: 1px dashed gray;margin: 0 0.4em 0.5em 0.4em;box-sizing: border-box;padding-bottom: 0.4em;background-color: white;}#sk-container-id-8 div.sk-label label {font-family: monospace;font-weight: bold;display: inline-block;line-height: 1.2em;}#sk-container-id-8 div.sk-label-container {text-align: center;}#sk-container-id-8 div.sk-container {/* jupyter's `normalize.less` sets `[hidden] { display: none; }` but bootstrap.min.css set `[hidden] { display: none !important; }` so we also need the `!important` here to be able to override the default hidden behavior on the sphinx rendered scikit-learn.org. See: https://github.com/scikit-learn/scikit-learn/issues/21755 */display: inline-block !important;position: relative;}#sk-container-id-8 div.sk-text-repr-fallback {display: none;}</style><div id=\"sk-container-id-8\" class=\"sk-top-container\"><div class=\"sk-text-repr-fallback\"><pre>RandomForestClassifier(max_depth=30, n_estimators=200)</pre><b>In a Jupyter environment, please rerun this cell to show the HTML representation or trust the notebook. <br />On GitHub, the HTML representation is unable to render, please try loading this page with nbviewer.org.</b></div><div class=\"sk-container\" hidden><div class=\"sk-item\"><div class=\"sk-estimator sk-toggleable\"><input class=\"sk-toggleable__control sk-hidden--visually\" id=\"sk-estimator-id-8\" type=\"checkbox\" checked><label for=\"sk-estimator-id-8\" class=\"sk-toggleable__label sk-toggleable__label-arrow\">RandomForestClassifier</label><div class=\"sk-toggleable__content\"><pre>RandomForestClassifier(max_depth=30, n_estimators=200)</pre></div></div></div></div></div>"
     },
     "execution_count": 46,
     "metadata": {},
     "output_type": "execute_result"
    }
   ],
   "source": [
    "from sklearn.ensemble import RandomForestClassifier\n",
    "\n",
    "# RF model\n",
    "model_rf = RandomForestClassifier(max_depth=30, min_samples_leaf=1, min_samples_split=2, n_estimators=200) # best param\n",
    "model_name = 'RF'\n",
    "\n",
    "model_rf.fit(X_train, y_train_bin)"
   ],
   "metadata": {
    "collapsed": false,
    "ExecuteTime": {
     "end_time": "2023-12-07T13:37:39.753970400Z",
     "start_time": "2023-12-07T13:37:07.685609700Z"
    }
   }
  },
  {
   "cell_type": "markdown",
   "source": [
    "## Test and evaluate"
   ],
   "metadata": {
    "collapsed": false
   }
  },
  {
   "cell_type": "code",
   "execution_count": 47,
   "outputs": [
    {
     "name": "stdout",
     "output_type": "stream",
     "text": [
      "True Positive Rate: 0.8979166666666667\n",
      "False Positive Rate: 0.1020833333333333\n",
      "Precision: 0.8979166666666667\n",
      "[Confusion Matrix]\n",
      " [[ 564  411]\n",
      " [  79 3746]]\n"
     ]
    }
   ],
   "source": [
    "# Test the trained model using testing data and report the accuracy and confusion matrix.\n",
    "from sklearn.metrics import accuracy_score, confusion_matrix\n",
    "from sklearn.metrics import precision_score, recall_score\n",
    "\n",
    "y_pred_bin = model_rf.predict(X_test)\n",
    "tpr = recall_score(y_test_bin, y_pred_bin, average='micro')\n",
    "precision = precision_score(y_test_bin, y_pred_bin, average='micro')\n",
    "print(f'True Positive Rate: {tpr}')\n",
    "print(f'False Positive Rate: {1 - tpr}')\n",
    "print(f'Precision: {precision}')\n",
    "\n",
    "conf_matrix = confusion_matrix(y_test_bin, y_pred_bin)\n",
    "print(f\"[Confusion Matrix]\\n {conf_matrix}\")"
   ],
   "metadata": {
    "collapsed": false,
    "ExecuteTime": {
     "end_time": "2023-12-07T13:37:40.022813800Z",
     "start_time": "2023-12-07T13:37:39.756979800Z"
    }
   }
  },
  {
   "cell_type": "code",
   "execution_count": 48,
   "outputs": [
    {
     "data": {
      "text/plain": "<Figure size 800x600 with 1 Axes>",
      "image/png": "[encoded data removed]"
     },
     "metadata": {},
     "output_type": "display_data"
    },
    {
     "data": {
      "text/plain": "<Figure size 800x600 with 1 Axes>",
      "image/png": "[encoded data removed]"
     },
     "metadata": {},
     "output_type": "display_data"
    }
   ],
   "source": [
    "import matplotlib.pyplot as plt\n",
    "from sklearn.metrics import precision_recall_curve, roc_curve, auc\n",
    "\n",
    "# Precision-Recall curve\n",
    "precision, recall, _ = precision_recall_curve(y_test_bin, model_rf.predict_proba(X_test)[:, 1])\n",
    "plt.figure(figsize=(8, 6))\n",
    "plt.plot(recall, precision, marker='.')\n",
    "plt.xlabel('Recall')\n",
    "plt.ylabel('Precision')\n",
    "plt.title(f'Precision-Recall curve of knn')\n",
    "plt.show()\n",
    "\n",
    "# ROC\n",
    "fpr, tpr, _ = roc_curve(y_test_bin, model_rf.predict_proba(X_test)[:, 1])\n",
    "roc_auc = auc(fpr, tpr)\n",
    "plt.figure(figsize=(8, 6))\n",
    "plt.plot(fpr, tpr, marker='.')\n",
    "plt.xlabel('False Positive Rate')\n",
    "plt.ylabel('True Positive Rate')\n",
    "plt.title(f'Receiver operating characteristic of knn')\n",
    "plt.show()"
   ],
   "metadata": {
    "collapsed": false,
    "ExecuteTime": {
     "end_time": "2023-12-07T13:37:41.018451400Z",
     "start_time": "2023-12-07T13:37:40.037888800Z"
    }
   }
  },
  {
   "cell_type": "markdown",
   "source": [
    "## Baseline\n"
   ],
   "metadata": {
    "collapsed": false
   }
  },
  {
   "cell_type": "code",
   "execution_count": 49,
   "outputs": [
    {
     "name": "stdout",
     "output_type": "stream",
     "text": [
      "Baseline accuracy by random guessing: 0.494375\n"
     ]
    }
   ],
   "source": [
    "import numpy as np\n",
    "\n",
    "classes = np.unique(y_test_bin)\n",
    "random_predictions = np.random.choice(classes, size=len(y_test_bin))\n",
    "accuracy = (random_predictions == y_test_bin).mean()\n",
    "\n",
    "print(f\"Baseline accuracy by random guessing: {accuracy}\")"
   ],
   "metadata": {
    "collapsed": false,
    "ExecuteTime": {
     "end_time": "2023-12-07T13:37:41.252594600Z",
     "start_time": "2023-12-07T13:37:41.025455600Z"
    }
   }
  }
 ],
 "metadata": {
  "kernelspec": {
   "display_name": "Python 3",
   "language": "python",
   "name": "python3"
  },
  "language_info": {
   "codemirror_mode": {
    "name": "ipython",
    "version": 2
   },
   "file_extension": ".py",
   "mimetype": "text/x-python",
   "name": "python",
   "nbconvert_exporter": "python",
   "pygments_lexer": "ipython2",
   "version": "2.7.6"
  }
 },
 "nbformat": 4,
 "nbformat_minor": 0
}
