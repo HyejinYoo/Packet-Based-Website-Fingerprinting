{
 "cells": [
  {
   "cell_type": "markdown",
   "source": [
    "# Load Data\n",
    "## multi-class"
   ],
   "metadata": {
    "collapsed": false
   }
  },
  {
   "cell_type": "code",
   "execution_count": 83,
   "outputs": [],
   "source": [
    "import pandas as pd\n",
    "\n",
    "# Load data\n",
    "data = pd.read_csv('nor_constant_o.csv')\n",
    "X = data\n",
    "X = X.drop(\n",
    "    ['std_burst_med_o', 'std_dev_in_o', 'avg_med_o', 'avg_in_o', 'in_pack_num_o', 'in_pack_sum_o',\n",
    "    'total_sum_pack_per_sec_o', 'sum_med_o', 'avg_burst_med_o', 'total_num_pack_per_sec_o',\n",
    "    'sum_burst_med_o', 'in_sum_30_o', 'out_sum_30_o'], axis=1) # 필요없는 피쳐 제외하기\n",
    "y_mul = pd.read_csv('y_mul.csv').iloc[:, -1]"
   ],
   "metadata": {
    "collapsed": false,
    "ExecuteTime": {
     "end_time": "2023-12-07T10:41:56.882655700Z",
     "start_time": "2023-12-07T10:41:56.760024700Z"
    }
   }
  },
  {
   "cell_type": "code",
   "execution_count": 84,
   "outputs": [
    {
     "data": {
      "text/plain": "24000"
     },
     "execution_count": 84,
     "metadata": {},
     "output_type": "execute_result"
    }
   ],
   "source": [
    "len(X)"
   ],
   "metadata": {
    "collapsed": false,
    "ExecuteTime": {
     "end_time": "2023-12-07T10:41:57.490004Z",
     "start_time": "2023-12-07T10:41:57.468283900Z"
    }
   }
  },
  {
   "cell_type": "code",
   "execution_count": 85,
   "outputs": [
    {
     "data": {
      "text/plain": "0         0\n1         0\n2         0\n3         0\n4         0\n         ..\n23995    95\n23996    95\n23997    95\n23998    95\n23999    95\nName: y, Length: 24000, dtype: int64"
     },
     "execution_count": 85,
     "metadata": {},
     "output_type": "execute_result"
    }
   ],
   "source": [
    "y_mul"
   ],
   "metadata": {
    "collapsed": false,
    "ExecuteTime": {
     "end_time": "2023-12-07T10:41:58.067729900Z",
     "start_time": "2023-12-07T10:41:58.028734400Z"
    }
   }
  },
  {
   "cell_type": "code",
   "execution_count": 86,
   "outputs": [],
   "source": [
    "from sklearn.model_selection import train_test_split\n",
    "\n",
    "X_train, X_test, y_train_mul, y_test_mul = train_test_split(X, y_mul, test_size=0.2, random_state=1)"
   ],
   "metadata": {
    "collapsed": false,
    "ExecuteTime": {
     "end_time": "2023-12-07T10:41:59.031226400Z",
     "start_time": "2023-12-07T10:41:58.971862100Z"
    }
   }
  },
  {
   "cell_type": "markdown",
   "source": [
    "## Train the model(K-NN)"
   ],
   "metadata": {
    "collapsed": false
   }
  },
  {
   "cell_type": "code",
   "execution_count": 87,
   "outputs": [
    {
     "data": {
      "text/plain": "KNeighborsClassifier(metric='manhattan', weights='distance')",
      "text/html": "<style>#sk-container-id-3 {color: black;}#sk-container-id-3 pre{padding: 0;}#sk-container-id-3 div.sk-toggleable {background-color: white;}#sk-container-id-3 label.sk-toggleable__label {cursor: pointer;display: block;width: 100%;margin-bottom: 0;padding: 0.3em;box-sizing: border-box;text-align: center;}#sk-container-id-3 label.sk-toggleable__label-arrow:before {content: \"▸\";float: left;margin-right: 0.25em;color: #696969;}#sk-container-id-3 label.sk-toggleable__label-arrow:hover:before {color: black;}#sk-container-id-3 div.sk-estimator:hover label.sk-toggleable__label-arrow:before {color: black;}#sk-container-id-3 div.sk-toggleable__content {max-height: 0;max-width: 0;overflow: hidden;text-align: left;background-color: #f0f8ff;}#sk-container-id-3 div.sk-toggleable__content pre {margin: 0.2em;color: black;border-radius: 0.25em;background-color: #f0f8ff;}#sk-container-id-3 input.sk-toggleable__control:checked~div.sk-toggleable__content {max-height: 200px;max-width: 100%;overflow: auto;}#sk-container-id-3 input.sk-toggleable__control:checked~label.sk-toggleable__label-arrow:before {content: \"▾\";}#sk-container-id-3 div.sk-estimator input.sk-toggleable__control:checked~label.sk-toggleable__label {background-color: #d4ebff;}#sk-container-id-3 div.sk-label input.sk-toggleable__control:checked~label.sk-toggleable__label {background-color: #d4ebff;}#sk-container-id-3 input.sk-hidden--visually {border: 0;clip: rect(1px 1px 1px 1px);clip: rect(1px, 1px, 1px, 1px);height: 1px;margin: -1px;overflow: hidden;padding: 0;position: absolute;width: 1px;}#sk-container-id-3 div.sk-estimator {font-family: monospace;background-color: #f0f8ff;border: 1px dotted black;border-radius: 0.25em;box-sizing: border-box;margin-bottom: 0.5em;}#sk-container-id-3 div.sk-estimator:hover {background-color: #d4ebff;}#sk-container-id-3 div.sk-parallel-item::after {content: \"\";width: 100%;border-bottom: 1px solid gray;flex-grow: 1;}#sk-container-id-3 div.sk-label:hover label.sk-toggleable__label {background-color: #d4ebff;}#sk-container-id-3 div.sk-serial::before {content: \"\";position: absolute;border-left: 1px solid gray;box-sizing: border-box;top: 0;bottom: 0;left: 50%;z-index: 0;}#sk-container-id-3 div.sk-serial {display: flex;flex-direction: column;align-items: center;background-color: white;padding-right: 0.2em;padding-left: 0.2em;position: relative;}#sk-container-id-3 div.sk-item {position: relative;z-index: 1;}#sk-container-id-3 div.sk-parallel {display: flex;align-items: stretch;justify-content: center;background-color: white;position: relative;}#sk-container-id-3 div.sk-item::before, #sk-container-id-3 div.sk-parallel-item::before {content: \"\";position: absolute;border-left: 1px solid gray;box-sizing: border-box;top: 0;bottom: 0;left: 50%;z-index: -1;}#sk-container-id-3 div.sk-parallel-item {display: flex;flex-direction: column;z-index: 1;position: relative;background-color: white;}#sk-container-id-3 div.sk-parallel-item:first-child::after {align-self: flex-end;width: 50%;}#sk-container-id-3 div.sk-parallel-item:last-child::after {align-self: flex-start;width: 50%;}#sk-container-id-3 div.sk-parallel-item:only-child::after {width: 0;}#sk-container-id-3 div.sk-dashed-wrapped {border: 1px dashed gray;margin: 0 0.4em 0.5em 0.4em;box-sizing: border-box;padding-bottom: 0.4em;background-color: white;}#sk-container-id-3 div.sk-label label {font-family: monospace;font-weight: bold;display: inline-block;line-height: 1.2em;}#sk-container-id-3 div.sk-label-container {text-align: center;}#sk-container-id-3 div.sk-container {/* jupyter's `normalize.less` sets `[hidden] { display: none; }` but bootstrap.min.css set `[hidden] { display: none !important; }` so we also need the `!important` here to be able to override the default hidden behavior on the sphinx rendered scikit-learn.org. See: https://github.com/scikit-learn/scikit-learn/issues/21755 */display: inline-block !important;position: relative;}#sk-container-id-3 div.sk-text-repr-fallback {display: none;}</style><div id=\"sk-container-id-3\" class=\"sk-top-container\"><div class=\"sk-text-repr-fallback\"><pre>KNeighborsClassifier(metric=&#x27;manhattan&#x27;, weights=&#x27;distance&#x27;)</pre><b>In a Jupyter environment, please rerun this cell to show the HTML representation or trust the notebook. <br />On GitHub, the HTML representation is unable to render, please try loading this page with nbviewer.org.</b></div><div class=\"sk-container\" hidden><div class=\"sk-item\"><div class=\"sk-estimator sk-toggleable\"><input class=\"sk-toggleable__control sk-hidden--visually\" id=\"sk-estimator-id-7\" type=\"checkbox\" checked><label for=\"sk-estimator-id-7\" class=\"sk-toggleable__label sk-toggleable__label-arrow\">KNeighborsClassifier</label><div class=\"sk-toggleable__content\"><pre>KNeighborsClassifier(metric=&#x27;manhattan&#x27;, weights=&#x27;distance&#x27;)</pre></div></div></div></div></div>"
     },
     "execution_count": 87,
     "metadata": {},
     "output_type": "execute_result"
    }
   ],
   "source": [
    "from sklearn.neighbors import KNeighborsClassifier\n",
    "\n",
    "# KNN model\n",
    "model_knn = KNeighborsClassifier(metric='manhattan', n_neighbors=5, weights='distance') # best param\n",
    "model_name = 'KNN'\n",
    "\n",
    "model_knn.fit(X_train, y_train_mul)"
   ],
   "metadata": {
    "collapsed": false,
    "ExecuteTime": {
     "end_time": "2023-12-07T10:42:00.507627700Z",
     "start_time": "2023-12-07T10:42:00.364917800Z"
    }
   }
  },
  {
   "cell_type": "markdown",
   "source": [
    "## Test and evaluate"
   ],
   "metadata": {
    "collapsed": false
   }
  },
  {
   "cell_type": "code",
   "execution_count": 88,
   "outputs": [
    {
     "name": "stdout",
     "output_type": "stream",
     "text": [
      "Confusion Matrix:\n",
      "[[ 16   0   0 ...   0   1   5]\n",
      " [  0  21   0 ...   0   0   7]\n",
      " [  0   0  34 ...   0   0   4]\n",
      " ...\n",
      " [  0   0   0 ...  28   0   2]\n",
      " [  0   0   0 ...   0  23   5]\n",
      " [  7   5  13 ...   1   2 565]]\n",
      "Classification Report:\n",
      "              precision    recall  f1-score   support\n",
      "\n",
      "           0       0.48      0.32      0.39        50\n",
      "           1       0.81      0.57      0.67        37\n",
      "           2       0.61      0.74      0.67        46\n",
      "           3       0.56      0.67      0.61        36\n",
      "           4       0.82      0.60      0.69        47\n",
      "           5       0.74      0.91      0.82        34\n",
      "           6       0.73      0.70      0.71        46\n",
      "           7       0.81      0.55      0.66        38\n",
      "           8       0.60      0.75      0.67        36\n",
      "           9       0.63      0.68      0.65        50\n",
      "          10       0.71      0.61      0.66        49\n",
      "          11       0.46      0.49      0.47        35\n",
      "          12       0.83      0.90      0.87        50\n",
      "          13       0.54      0.47      0.51        40\n",
      "          14       0.54      0.49      0.51        39\n",
      "          15       0.61      0.58      0.60        48\n",
      "          16       0.85      0.54      0.66        41\n",
      "          17       0.52      0.55      0.53        31\n",
      "          18       0.75      0.68      0.71        40\n",
      "          19       0.74      0.69      0.72        42\n",
      "          20       0.79      0.89      0.84        38\n",
      "          21       0.37      0.17      0.24        40\n",
      "          22       0.64      0.55      0.59        38\n",
      "          23       0.69      0.80      0.74        45\n",
      "          24       0.33      0.27      0.30        45\n",
      "          25       0.59      0.59      0.59        41\n",
      "          26       0.64      0.86      0.73        35\n",
      "          27       0.64      0.64      0.64        39\n",
      "          28       0.80      0.63      0.70        51\n",
      "          29       0.56      0.53      0.55        43\n",
      "          30       0.68      0.73      0.71        41\n",
      "          31       0.57      0.57      0.57        40\n",
      "          32       0.58      0.36      0.44        42\n",
      "          33       0.75      0.77      0.76        39\n",
      "          34       0.32      0.23      0.27        44\n",
      "          35       0.52      0.69      0.60        36\n",
      "          36       0.59      0.88      0.71        33\n",
      "          37       0.33      0.31      0.32        36\n",
      "          38       0.45      0.45      0.45        33\n",
      "          39       0.64      0.80      0.71        35\n",
      "          40       0.62      0.58      0.60        48\n",
      "          41       0.71      0.84      0.77        50\n",
      "          42       0.53      0.51      0.52        51\n",
      "          43       0.62      0.70      0.66        37\n",
      "          44       0.88      1.00      0.94        45\n",
      "          45       0.45      0.45      0.45        42\n",
      "          46       0.51      0.56      0.53        41\n",
      "          47       0.57      0.50      0.53        40\n",
      "          48       0.51      0.53      0.52        45\n",
      "          49       0.73      0.82      0.77        44\n",
      "          50       0.63      0.86      0.73        37\n",
      "          51       0.59      0.59      0.59        37\n",
      "          52       0.63      0.67      0.65        33\n",
      "          53       0.62      0.56      0.59        43\n",
      "          54       0.78      0.76      0.77        42\n",
      "          55       0.47      0.56      0.51        34\n",
      "          56       0.76      0.86      0.81        36\n",
      "          57       0.68      0.56      0.61        45\n",
      "          58       0.70      0.80      0.74        49\n",
      "          59       0.80      0.95      0.87        38\n",
      "          60       0.59      0.68      0.63        38\n",
      "          61       0.59      0.64      0.61        36\n",
      "          62       0.52      0.58      0.55        45\n",
      "          63       0.46      0.55      0.50        42\n",
      "          64       0.71      0.72      0.72        40\n",
      "          65       0.50      0.49      0.49        39\n",
      "          66       0.56      0.57      0.57        49\n",
      "          67       0.72      0.68      0.70        41\n",
      "          68       0.66      0.50      0.57        50\n",
      "          69       0.57      0.55      0.56        38\n",
      "          70       0.70      0.93      0.80        40\n",
      "          71       0.41      0.69      0.52        35\n",
      "          72       0.36      0.63      0.46        27\n",
      "          73       0.65      0.54      0.59        37\n",
      "          74       0.59      0.68      0.63        34\n",
      "          75       0.74      0.88      0.80        42\n",
      "          76       0.80      0.90      0.84        48\n",
      "          77       0.55      0.46      0.50        37\n",
      "          78       0.61      0.60      0.60        47\n",
      "          79       0.56      0.42      0.48        36\n",
      "          80       0.61      0.94      0.74        35\n",
      "          81       0.54      0.60      0.57        35\n",
      "          82       0.52      0.65      0.58        40\n",
      "          83       0.53      0.66      0.58        29\n",
      "          84       0.65      0.53      0.58        38\n",
      "          85       0.63      0.70      0.67        27\n",
      "          86       0.77      0.90      0.83        40\n",
      "          87       0.65      0.74      0.69        38\n",
      "          88       0.65      0.75      0.70        40\n",
      "          89       0.40      0.42      0.41        38\n",
      "          90       0.58      0.78      0.67        32\n",
      "          91       0.74      0.66      0.70        44\n",
      "          92       0.34      0.47      0.40        34\n",
      "          93       0.74      0.74      0.74        38\n",
      "          94       0.47      0.46      0.46        50\n",
      "          95       0.66      0.58      0.62       975\n",
      "\n",
      "    accuracy                           0.62      4800\n",
      "   macro avg       0.61      0.64      0.62      4800\n",
      "weighted avg       0.63      0.62      0.62      4800\n",
      "\n",
      "Accuracy: 0.6239583333333333\n"
     ]
    }
   ],
   "source": [
    "# Test the trained model using testing data and report the accuracy and confusion matrix.\n",
    "from sklearn.metrics import classification_report, confusion_matrix, accuracy_score\n",
    "\n",
    "\n",
    "y_pred_mul = model_knn.predict(X_test)\n",
    "\n",
    "result = confusion_matrix(y_test_mul, y_pred_mul)\n",
    "print(\"Confusion Matrix:\")\n",
    "print(result)\n",
    "result1 = classification_report(y_test_mul, y_pred_mul)\n",
    "print(\"Classification Report:\")\n",
    "print (result1)\n",
    "result2 = accuracy_score(y_test_mul, y_pred_mul)\n",
    "print(\"Accuracy:\",result2)"
   ],
   "metadata": {
    "collapsed": false,
    "ExecuteTime": {
     "end_time": "2023-12-07T10:42:03.724959300Z",
     "start_time": "2023-12-07T10:42:03.508844700Z"
    }
   }
  },
  {
   "cell_type": "markdown",
   "source": [
    "## binary classification"
   ],
   "metadata": {
    "collapsed": false
   }
  },
  {
   "cell_type": "code",
   "execution_count": 90,
   "outputs": [],
   "source": [
    "from sklearn.model_selection import train_test_split\n",
    "\n",
    "y_bin = pd.read_csv('y_bin.csv').iloc[:, -1]\n",
    "\n",
    "X_train, X_test, y_train_bin, y_test_bin = train_test_split(X, y_bin, test_size=0.2, random_state=1)"
   ],
   "metadata": {
    "collapsed": false,
    "ExecuteTime": {
     "end_time": "2023-12-07T10:42:51.258841Z",
     "start_time": "2023-12-07T10:42:51.209415200Z"
    }
   }
  },
  {
   "cell_type": "markdown",
   "source": [
    "## Train the model(K-NN)"
   ],
   "metadata": {
    "collapsed": false
   }
  },
  {
   "cell_type": "code",
   "execution_count": 91,
   "outputs": [
    {
     "data": {
      "text/plain": "KNeighborsClassifier(metric='manhattan', weights='distance')",
      "text/html": "<style>#sk-container-id-4 {color: black;}#sk-container-id-4 pre{padding: 0;}#sk-container-id-4 div.sk-toggleable {background-color: white;}#sk-container-id-4 label.sk-toggleable__label {cursor: pointer;display: block;width: 100%;margin-bottom: 0;padding: 0.3em;box-sizing: border-box;text-align: center;}#sk-container-id-4 label.sk-toggleable__label-arrow:before {content: \"▸\";float: left;margin-right: 0.25em;color: #696969;}#sk-container-id-4 label.sk-toggleable__label-arrow:hover:before {color: black;}#sk-container-id-4 div.sk-estimator:hover label.sk-toggleable__label-arrow:before {color: black;}#sk-container-id-4 div.sk-toggleable__content {max-height: 0;max-width: 0;overflow: hidden;text-align: left;background-color: #f0f8ff;}#sk-container-id-4 div.sk-toggleable__content pre {margin: 0.2em;color: black;border-radius: 0.25em;background-color: #f0f8ff;}#sk-container-id-4 input.sk-toggleable__control:checked~div.sk-toggleable__content {max-height: 200px;max-width: 100%;overflow: auto;}#sk-container-id-4 input.sk-toggleable__control:checked~label.sk-toggleable__label-arrow:before {content: \"▾\";}#sk-container-id-4 div.sk-estimator input.sk-toggleable__control:checked~label.sk-toggleable__label {background-color: #d4ebff;}#sk-container-id-4 div.sk-label input.sk-toggleable__control:checked~label.sk-toggleable__label {background-color: #d4ebff;}#sk-container-id-4 input.sk-hidden--visually {border: 0;clip: rect(1px 1px 1px 1px);clip: rect(1px, 1px, 1px, 1px);height: 1px;margin: -1px;overflow: hidden;padding: 0;position: absolute;width: 1px;}#sk-container-id-4 div.sk-estimator {font-family: monospace;background-color: #f0f8ff;border: 1px dotted black;border-radius: 0.25em;box-sizing: border-box;margin-bottom: 0.5em;}#sk-container-id-4 div.sk-estimator:hover {background-color: #d4ebff;}#sk-container-id-4 div.sk-parallel-item::after {content: \"\";width: 100%;border-bottom: 1px solid gray;flex-grow: 1;}#sk-container-id-4 div.sk-label:hover label.sk-toggleable__label {background-color: #d4ebff;}#sk-container-id-4 div.sk-serial::before {content: \"\";position: absolute;border-left: 1px solid gray;box-sizing: border-box;top: 0;bottom: 0;left: 50%;z-index: 0;}#sk-container-id-4 div.sk-serial {display: flex;flex-direction: column;align-items: center;background-color: white;padding-right: 0.2em;padding-left: 0.2em;position: relative;}#sk-container-id-4 div.sk-item {position: relative;z-index: 1;}#sk-container-id-4 div.sk-parallel {display: flex;align-items: stretch;justify-content: center;background-color: white;position: relative;}#sk-container-id-4 div.sk-item::before, #sk-container-id-4 div.sk-parallel-item::before {content: \"\";position: absolute;border-left: 1px solid gray;box-sizing: border-box;top: 0;bottom: 0;left: 50%;z-index: -1;}#sk-container-id-4 div.sk-parallel-item {display: flex;flex-direction: column;z-index: 1;position: relative;background-color: white;}#sk-container-id-4 div.sk-parallel-item:first-child::after {align-self: flex-end;width: 50%;}#sk-container-id-4 div.sk-parallel-item:last-child::after {align-self: flex-start;width: 50%;}#sk-container-id-4 div.sk-parallel-item:only-child::after {width: 0;}#sk-container-id-4 div.sk-dashed-wrapped {border: 1px dashed gray;margin: 0 0.4em 0.5em 0.4em;box-sizing: border-box;padding-bottom: 0.4em;background-color: white;}#sk-container-id-4 div.sk-label label {font-family: monospace;font-weight: bold;display: inline-block;line-height: 1.2em;}#sk-container-id-4 div.sk-label-container {text-align: center;}#sk-container-id-4 div.sk-container {/* jupyter's `normalize.less` sets `[hidden] { display: none; }` but bootstrap.min.css set `[hidden] { display: none !important; }` so we also need the `!important` here to be able to override the default hidden behavior on the sphinx rendered scikit-learn.org. See: https://github.com/scikit-learn/scikit-learn/issues/21755 */display: inline-block !important;position: relative;}#sk-container-id-4 div.sk-text-repr-fallback {display: none;}</style><div id=\"sk-container-id-4\" class=\"sk-top-container\"><div class=\"sk-text-repr-fallback\"><pre>KNeighborsClassifier(metric=&#x27;manhattan&#x27;, weights=&#x27;distance&#x27;)</pre><b>In a Jupyter environment, please rerun this cell to show the HTML representation or trust the notebook. <br />On GitHub, the HTML representation is unable to render, please try loading this page with nbviewer.org.</b></div><div class=\"sk-container\" hidden><div class=\"sk-item\"><div class=\"sk-estimator sk-toggleable\"><input class=\"sk-toggleable__control sk-hidden--visually\" id=\"sk-estimator-id-8\" type=\"checkbox\" checked><label for=\"sk-estimator-id-8\" class=\"sk-toggleable__label sk-toggleable__label-arrow\">KNeighborsClassifier</label><div class=\"sk-toggleable__content\"><pre>KNeighborsClassifier(metric=&#x27;manhattan&#x27;, weights=&#x27;distance&#x27;)</pre></div></div></div></div></div>"
     },
     "execution_count": 91,
     "metadata": {},
     "output_type": "execute_result"
    }
   ],
   "source": [
    "from sklearn.neighbors import KNeighborsClassifier\n",
    "\n",
    "# KNN model\n",
    "model_knn = KNeighborsClassifier(metric='manhattan', n_neighbors=5, weights='distance') # best param\n",
    "model_name = 'KNN'\n",
    "\n",
    "model_knn.fit(X_train, y_train_bin)"
   ],
   "metadata": {
    "collapsed": false,
    "ExecuteTime": {
     "end_time": "2023-12-07T10:42:53.075467700Z",
     "start_time": "2023-12-07T10:42:53.010719900Z"
    }
   }
  },
  {
   "cell_type": "markdown",
   "source": [
    "## Test and evaluate"
   ],
   "metadata": {
    "collapsed": false
   }
  },
  {
   "cell_type": "code",
   "execution_count": 92,
   "outputs": [
    {
     "name": "stdout",
     "output_type": "stream",
     "text": [
      "True Positive Rate: 0.8672916666666667\n",
      "False Positive Rate: 0.13270833333333332\n",
      "Precision: 0.8672916666666667\n",
      "[Confusion Matrix]\n",
      " [[ 484  491]\n",
      " [ 146 3679]]\n"
     ]
    }
   ],
   "source": [
    "# Test the trained model using testing data and report the accuracy and confusion matrix.\n",
    "from sklearn.metrics import accuracy_score, confusion_matrix\n",
    "from sklearn.metrics import precision_score, recall_score\n",
    "\n",
    "y_pred_bin = model_knn.predict(X_test)\n",
    "tpr = recall_score(y_test_bin, y_pred_bin, average='micro')\n",
    "precision = precision_score(y_test_bin, y_pred_bin, average='micro')\n",
    "print(f'True Positive Rate: {tpr}')\n",
    "print(f'False Positive Rate: {1 - tpr}')\n",
    "print(f'Precision: {precision}')\n",
    "\n",
    "conf_matrix = confusion_matrix(y_test_bin, y_pred_bin)\n",
    "print(f\"[Confusion Matrix]\\n {conf_matrix}\")"
   ],
   "metadata": {
    "collapsed": false,
    "ExecuteTime": {
     "end_time": "2023-12-07T10:42:55.627784300Z",
     "start_time": "2023-12-07T10:42:55.423572200Z"
    }
   }
  },
  {
   "cell_type": "code",
   "execution_count": 93,
   "outputs": [
    {
     "data": {
      "text/plain": "<Figure size 640x480 with 1 Axes>",
      "image/png": "[encoded data removed]"
     },
     "metadata": {},
     "output_type": "display_data"
    },
    {
     "data": {
      "text/plain": "<Figure size 640x480 with 1 Axes>",
      "image/png": "[encoded data removed]"
     },
     "metadata": {},
     "output_type": "display_data"
    }
   ],
   "source": [
    "import matplotlib.pyplot as plt\n",
    "from sklearn.metrics import precision_recall_curve, roc_curve, auc\n",
    "\n",
    "# Precision-Recall curve\n",
    "precision, recall, _ = precision_recall_curve(y_test_bin, y_pred_bin)\n",
    "plt.step(recall, precision, where='post')\n",
    "plt.xlabel('Recall')\n",
    "plt.ylabel('Precision')\n",
    "plt.ylim([0.0, 1.05])\n",
    "plt.xlim([0.0, 1.0])\n",
    "plt.title(f'Precision-Recall curve of knn')\n",
    "plt.show()\n",
    "\n",
    "# ROC\n",
    "fpr, tpr, _ = roc_curve(y_test_bin, y_pred_bin)\n",
    "roc_auc = auc(fpr, tpr)\n",
    "plt.plot(fpr, tpr, label=f'ROC curve (area = {roc_auc})')\n",
    "plt.plot([0, 1], [0, 1], 'k--')\n",
    "plt.xlim([0.0, 1.0])\n",
    "plt.ylim([0.0, 1.05])\n",
    "plt.xlabel('False Positive Rate')\n",
    "plt.ylabel('True Positive Rate')\n",
    "plt.title(f'Receiver operating characteristic of knn')\n",
    "plt.legend(loc=\"lower right\")\n",
    "plt.show()"
   ],
   "metadata": {
    "collapsed": false,
    "ExecuteTime": {
     "end_time": "2023-12-07T10:42:58.143223Z",
     "start_time": "2023-12-07T10:42:57.757216400Z"
    }
   }
  }
 ],
 "metadata": {
  "kernelspec": {
   "display_name": "Python 3",
   "language": "python",
   "name": "python3"
  },
  "language_info": {
   "codemirror_mode": {
    "name": "ipython",
    "version": 2
   },
   "file_extension": ".py",
   "mimetype": "text/x-python",
   "name": "python",
   "nbconvert_exporter": "python",
   "pygments_lexer": "ipython2",
   "version": "2.7.6"
  }
 },
 "nbformat": 4,
 "nbformat_minor": 0
}
