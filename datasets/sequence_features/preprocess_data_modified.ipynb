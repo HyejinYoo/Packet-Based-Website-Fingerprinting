{
 "cells": [
  {
   "cell_type": "markdown",
   "id": "93049d3b",
   "metadata": {},
   "source": [
    "# Preprocess Data"
   ]
  },
  {
   "cell_type": "markdown",
   "id": "162d7fef",
   "metadata": {},
   "source": [
    "## Load Data "
   ]
  },
  {
   "cell_type": "code",
   "execution_count": 1,
   "id": "390ae53e",
   "metadata": {},
   "outputs": [],
   "source": [
    "import pickle\n",
    "# Load monitored data\n",
    "with open(\"mon_standard.pkl\", 'rb') as fi:\n",
    "    mon_data = pickle.load(fi)\n",
    "    \n",
    "# Load unmonitored data\n",
    "with open(\"unmon_standard10.pkl\", 'rb') as fi:\n",
    "    unmon_data = pickle.load(fi)"
   ]
  },
  {
   "cell_type": "markdown",
   "id": "134b9077",
   "metadata": {},
   "source": [
    "## Extract Features"
   ]
  },
  {
   "cell_type": "markdown",
   "id": "249796ca",
   "metadata": {},
   "source": [
    "### Timestamp(2) & MED(6)"
   ]
  },
  {
   "cell_type": "code",
   "execution_count": 2,
   "id": "3d659f68",
   "metadata": {},
   "outputs": [],
   "source": [
    "# monitored data\n",
    "# timestamp_mon(2), med_mon(6)\n",
    "import numpy as np\n",
    "\n",
    "USE_SUBLABEL = False\n",
    "URL_PER_SITE = 10\n",
    "TOTAL_URLS = 950\n",
    "\n",
    "timestamp_mon = [] #timestamp 2번\n",
    "med_mon = [] # med 6번\n",
    "y_mon = []\n",
    "\n",
    "for i in range(TOTAL_URLS):\n",
    "    if USE_SUBLABEL:\n",
    "        label = i\n",
    "    else: #true면\n",
    "        label = i // URL_PER_SITE\n",
    "    for sample in mon_data[i]:\n",
    "        time_seq = []\n",
    "        med_mon_seq = []\n",
    "        time_tmp_seq = []\n",
    "        burst_check=-1\n",
    "        for c in sample:\n",
    "            dr = 1 if c > 0 else -1\n",
    "            time_seq.append(abs(c))\n",
    "            if(burst_check*dr>0) : #양수면 같은 방향이므로 burst 더하기\n",
    "                time_tmp_seq.append(abs(c))\n",
    "            else : #부호가 달라졌다면 이전에 저장한 값 삽입\n",
    "                med_mon_seq.append(round(np.median(time_tmp_seq),4))\n",
    "                burst_check= -1*burst_check\n",
    "                time_tmp_seq.clear()\n",
    "                time_tmp_seq.append(abs(c))\n",
    "                \n",
    "        med_mon_seq.append(np.median(time_tmp_seq))\n",
    "        med_mon.append(med_mon_seq)\n",
    "        timestamp_mon.append(time_seq)\n",
    "        y_mon.append(label)"
   ]
  },
  {
   "cell_type": "code",
   "execution_count": 3,
   "id": "83ed9e10",
   "metadata": {
    "scrolled": true
   },
   "outputs": [
    {
     "name": "stdout",
     "output_type": "stream",
     "text": [
      "19000\n"
     ]
    }
   ],
   "source": [
    "print(len(y_mon))"
   ]
  },
  {
   "cell_type": "code",
   "execution_count": 4,
   "id": "6b6294b5",
   "metadata": {},
   "outputs": [],
   "source": [
    "# unmonitored data\n",
    "# timestamp_unmon(2), med_unmon(6)\n",
    "import numpy as np\n",
    "\n",
    "timestamp_unmon = []\n",
    "med_unmon = []\n",
    "y_unmon = []\n",
    "\n",
    "for i in range(5000):\n",
    "    time_seq = []\n",
    "    med_unmon_seq = []\n",
    "    time_tmp_seq = []\n",
    "    burst_check=-1\n",
    "    for c in unmon_data[i]:\n",
    "        dr = 1 if c > 0 else -1\n",
    "        time_seq.append(abs(c))\n",
    "        if(burst_check*dr>0) : #양수면 같은 방향이므로 burst 더하기\n",
    "            time_tmp_seq.append(abs(c))\n",
    "        else : #부호가 달라졌다면 이전에 저장한 값 삽입\n",
    "            #burst_seq.append(burst_sum)\n",
    "            med_unmon_seq.append(round(np.median(time_tmp_seq),4))\n",
    "            burst_check= -1*burst_check\n",
    "            time_tmp_seq.clear()\n",
    "            time_tmp_seq.append(abs(c))\n",
    "                \n",
    "    med_unmon_seq.append(np.median(time_tmp_seq))    \n",
    "    med_unmon.append(med_unmon_seq)\n",
    "    timestamp_unmon.append(time_seq)\n",
    "    y_unmon.append(-1)"
   ]
  },
  {
   "cell_type": "code",
   "execution_count": 5,
   "id": "a5c92bd7",
   "metadata": {},
   "outputs": [],
   "source": [
    "# closed-world setting\n",
    "max_length_c_t = max(max(len(arr) for arr in timestamp_mon), max(len(arr) for arr in timestamp_mon))\n",
    "max_length_c_m = max(max(len(arr) for arr in med_mon), max(len(arr) for arr in med_mon))\n",
    "\n",
    "def pad_sequence(sequence, max_length):\n",
    "    return sequence + [0] * (max_length - len(sequence))\n",
    "\n",
    "timestamp_mon = [pad_sequence(arr, max_length_c_t) for arr in timestamp_mon]\n",
    "med_mon = [pad_sequence(arr, max_length_c_m) for arr in med_mon]"
   ]
  },
  {
   "cell_type": "code",
   "execution_count": 6,
   "id": "5f899ac9",
   "metadata": {},
   "outputs": [
    {
     "name": "stdout",
     "output_type": "stream",
     "text": [
      "9993\n",
      "1318\n",
      "19000\n",
      "19000\n"
     ]
    }
   ],
   "source": [
    "print(max_length_c_t)\n",
    "print(max_length_c_m)\n",
    "print(len(timestamp_mon))\n",
    "print(len(med_mon))"
   ]
  },
  {
   "cell_type": "code",
   "execution_count": 7,
   "id": "dca8051d",
   "metadata": {},
   "outputs": [],
   "source": [
    "# open-world setting\n",
    "# concat monitored and unmonitored data\n",
    "timestamp = timestamp_mon + timestamp_unmon\n",
    "med = med_mon + med_unmon"
   ]
  },
  {
   "cell_type": "code",
   "execution_count": 8,
   "id": "b89a28aa",
   "metadata": {},
   "outputs": [],
   "source": [
    "# add padding to timestamp and med lists\n",
    "max_length_o_t = max(max(len(arr) for arr in timestamp), max(len(arr) for arr in timestamp))\n",
    "max_length_o_m = max(max(len(arr) for arr in med), max(len(arr) for arr in med))\n",
    "\n",
    "def pad_sequence(sequence, max_length):\n",
    "    return sequence + [0] * (max_length - len(sequence))\n",
    "\n",
    "timestamp = [pad_sequence(arr, max_length_o_t) for arr in timestamp]\n",
    "med = [pad_sequence(arr, max_length_o_m) for arr in med]"
   ]
  },
  {
   "cell_type": "code",
   "execution_count": 9,
   "id": "d4203594",
   "metadata": {},
   "outputs": [
    {
     "name": "stdout",
     "output_type": "stream",
     "text": [
      "9993\n",
      "1563\n",
      "24000\n",
      "24000\n"
     ]
    }
   ],
   "source": [
    "print(max_length_o_t)\n",
    "print(max_length_o_m)\n",
    "print(len(timestamp))\n",
    "print(len(med))"
   ]
  },
  {
   "cell_type": "markdown",
   "id": "d8788ece",
   "metadata": {},
   "source": [
    "### Cumulative Packet Sizes(3), Burst(4)"
   ]
  },
  {
   "cell_type": "code",
   "execution_count": 10,
   "id": "032af550",
   "metadata": {},
   "outputs": [],
   "source": [
    "# monitored data\n",
    "# cumulative_sizes_mon(3), burst_mon(4)\n",
    "import numpy as np\n",
    "\n",
    "USE_SUBLABEL = False\n",
    "URL_PER_SITE = 10\n",
    "TOTAL_URLS = 950\n",
    "    \n",
    "cumulative_sizes_mon = []  \n",
    "burst_mon = [] \n",
    "\n",
    "for i in range(TOTAL_URLS):\n",
    "\n",
    "    for sample in mon_data[i]: \n",
    "        cumulative_sizes = []  \n",
    "        burst_seq = []\n",
    "        cumulative_size = 0 \n",
    "        burst_sum=0\n",
    "        burst_check=-1\n",
    "        for c in sample:\n",
    "            dr = 1 if c > 0 else -1\n",
    "            cumulative_size += dr * 512\n",
    "            cumulative_sizes.append(cumulative_size)\n",
    "            if(burst_check * dr > 0) : \n",
    "                burst_sum += dr * 512\n",
    "            else : \n",
    "                burst_seq.append(burst_sum)\n",
    "                burst_check = -1 * burst_check\n",
    "                burst_sum = dr * 512\n",
    "        burst_seq.append(burst_sum)\n",
    "        \n",
    "        cumulative_sizes_mon.append(cumulative_sizes)\n",
    "        burst_mon.append(burst_seq)   "
   ]
  },
  {
   "cell_type": "code",
   "execution_count": 11,
   "id": "2d744b65",
   "metadata": {},
   "outputs": [],
   "source": [
    "# unmonitored data\n",
    "# cumulative_sizes_unmon(3), burst_unmon(4)\n",
    "import numpy as np\n",
    "\n",
    "burst_unmon = []\n",
    "cumulative_sizes_unmon = []\n",
    "\n",
    "for i in range(5000):\n",
    "    cumulative_sizes = []  \n",
    "    burst_seq = []\n",
    "    cumulative_size = 0\n",
    "    burst_sum = 0\n",
    "    burst_check = -1\n",
    "    for c in unmon_data[i]:\n",
    "        dr = 1 if c > 0 else -1\n",
    "        cumulative_size += dr * 512\n",
    "        cumulative_sizes.append(cumulative_size)\n",
    "        if(burst_check * dr > 0) :\n",
    "            burst_sum += dr * 512\n",
    "        else :\n",
    "            burst_seq.append(burst_sum)\n",
    "            burst_check = -1 * burst_check\n",
    "            burst_sum = dr * 512\n",
    "    burst_seq.append(burst_sum)\n",
    "    \n",
    "    cumulative_sizes_unmon.append(cumulative_sizes)\n",
    "    burst_unmon.append(burst_seq)"
   ]
  },
  {
   "cell_type": "code",
   "execution_count": 12,
   "id": "4da8745b",
   "metadata": {},
   "outputs": [],
   "source": [
    "# closed-world setting\n",
    "max_length_c_c = max(max(len(arr) for arr in cumulative_sizes_mon), max(len(arr) for arr in cumulative_sizes_mon))\n",
    "max_length_c_b = max(max(len(arr) for arr in burst_mon), max(len(arr) for arr in burst_mon))\n",
    "\n",
    "def pad_sequence(sequence, max_length):\n",
    "    return sequence + [0] * (max_length - len(sequence))\n",
    "\n",
    "cumulative_sizes_mon = [pad_sequence(arr, max_length_c_c) for arr in cumulative_sizes_mon]\n",
    "burst_mon = [pad_sequence(arr, max_length_c_b) for arr in burst_mon]"
   ]
  },
  {
   "cell_type": "code",
   "execution_count": 13,
   "id": "a30a1721",
   "metadata": {},
   "outputs": [
    {
     "name": "stdout",
     "output_type": "stream",
     "text": [
      "9993\n",
      "1318\n",
      "19000\n",
      "9993\n",
      "19000\n"
     ]
    }
   ],
   "source": [
    "print(max_length_c_c)\n",
    "print(max_length_c_b)\n",
    "print(len(cumulative_sizes_mon))\n",
    "print(len(cumulative_sizes_mon[0]))\n",
    "print(len(burst_mon[0]))\n",
    "print(len(burst_mon))"
   ]
  },
  {
   "cell_type": "code",
   "execution_count": 14,
   "id": "25ba2b7a",
   "metadata": {},
   "outputs": [],
   "source": [
    "# open-world setting\n",
    "# concat monitored and unmonitored data\n",
    "cumulative_sizes = cumulative_sizes_mon + cumulative_sizes_unmon\n",
    "burst = burst_mon + burst_unmon"
   ]
  },
  {
   "cell_type": "code",
   "execution_count": 15,
   "id": "13c99776",
   "metadata": {},
   "outputs": [],
   "source": [
    "# add padding to cumulative sizes and burst lists\n",
    "max_length_o_c = max(max(len(arr) for arr in cumulative_sizes), max(len(arr) for arr in cumulative_sizes))\n",
    "max_length_o_b = max(max(len(arr) for arr in burst), max(len(arr) for arr in burst))\n",
    "\n",
    "def pad_sequence(sequence, max_length):\n",
    "    return sequence + [0] * (max_length - len(sequence))\n",
    "\n",
    "cumulative_sizes = [pad_sequence(arr, max_length_o_c) for arr in cumulative_sizes]\n",
    "burst = [pad_sequence(arr, max_length_o_b) for arr in burst]"
   ]
  },
  {
   "cell_type": "code",
   "execution_count": 16,
   "id": "4d4817fc",
   "metadata": {},
   "outputs": [
    {
     "name": "stdout",
     "output_type": "stream",
     "text": [
      "9993\n",
      "1563\n",
      "24000\n",
      "9993\n",
      "24000\n"
     ]
    }
   ],
   "source": [
    "print(max_length_o_c)\n",
    "print(max_length_o_b)\n",
    "print(len(cumulative_sizes))\n",
    "print(len(cumulative_sizes[0]))\n",
    "print(len(burst))"
   ]
  },
  {
   "cell_type": "markdown",
   "id": "b4a1e2cb",
   "metadata": {},
   "source": [
    "### Sequence of Packet Sizes(1), Number of Incoming Packets(5)"
   ]
  },
  {
   "cell_type": "code",
   "execution_count": 17,
   "id": "4de1a54e",
   "metadata": {},
   "outputs": [],
   "source": [
    "# monitored data\n",
    "# sequence of packet sizes(1), # of incoming packets(5)\n",
    "import numpy as np\n",
    "TOTAL_URLS   = 950\n",
    "\n",
    "pack_size_mon = [] # Array to store instances (direction*size) - size information\n",
    "num_pack_mon = [] # Array to store the incoming num of packets\n",
    "\n",
    "for i in range(TOTAL_URLS):\n",
    "    for sample in mon_data[i]:\n",
    "        num_pack = 0\n",
    "        size_seq = []\n",
    "        for i, c in enumerate(sample):\n",
    "            dr = 1 if c > 0 else -1\n",
    "            size_seq.append(dr * 512)\n",
    "            if dr == -1:\n",
    "                num_pack += 1\n",
    "        # size_seq = np.pad(size_seq, (0, max_length - len(size_seq)), 'constant')\n",
    "        pack_size_mon.append(size_seq)\n",
    "        num_pack_mon.append(num_pack)"
   ]
  },
  {
   "cell_type": "code",
   "execution_count": 18,
   "id": "901b93be",
   "metadata": {},
   "outputs": [],
   "source": [
    "# unmonitored data\n",
    "# sequence of packet sizes(1), # of incoming packets(5)\n",
    "import numpy as np\n",
    "\n",
    "TOTAL_URLS = 5000  # total number in the dataset\n",
    "\n",
    "pack_size_unmon = [] # Array to store instances (direction*size) - size information\n",
    "num_pack_unmon = [] # Array to store the incoming num of packets\n",
    "\n",
    "for i in range(TOTAL_URLS):\n",
    "    size_seq = []\n",
    "    num_pack = 0\n",
    "    for c in unmon_data[i]:\n",
    "        dr = 1 if c > 0 else -1\n",
    "        size_seq.append(dr * 512) # In the pickle file, there is no size information, so the conversion code is set to multiply by 512 uniformly.\n",
    "        if dr == -1:\n",
    "            num_pack += 1\n",
    "    # size_seq = np.pad(size_seq, (0, TOTAL_URLS - len(size_seq)), 'constant')\n",
    "    pack_size_unmon.append(size_seq)\n",
    "    num_pack_unmon.append(num_pack)"
   ]
  },
  {
   "cell_type": "code",
   "execution_count": 19,
   "id": "03916f22",
   "metadata": {},
   "outputs": [],
   "source": [
    "# closed-world setting\n",
    "max_length_c_p = max(max(len(arr) for arr in pack_size_mon), max(len(arr) for arr in pack_size_mon))\n",
    "\n",
    "def pad_sequence(sequence, max_length):\n",
    "    return sequence + [0] * (max_length - len(sequence))\n",
    "\n",
    "pack_size_mon = [pad_sequence(arr, max_length_c_p) for arr in pack_size_mon]"
   ]
  },
  {
   "cell_type": "code",
   "execution_count": 20,
   "id": "e44f6331",
   "metadata": {},
   "outputs": [
    {
     "name": "stdout",
     "output_type": "stream",
     "text": [
      "9993\n",
      "19000\n",
      "19000\n",
      "9993\n"
     ]
    }
   ],
   "source": [
    "print(max_length_c_p)\n",
    "print(len(pack_size_mon))\n",
    "print(len(num_pack_mon))\n",
    "print(len(pack_size_mon[0]))"
   ]
  },
  {
   "cell_type": "code",
   "execution_count": 21,
   "id": "603422a1",
   "metadata": {},
   "outputs": [],
   "source": [
    "# open-world setting\n",
    "# concat monitored and unmonitored data\n",
    "pack_size = pack_size_mon + pack_size_unmon\n",
    "num_pack = num_pack_mon + num_pack_unmon"
   ]
  },
  {
   "cell_type": "code",
   "execution_count": 22,
   "id": "cbe08eda",
   "metadata": {},
   "outputs": [],
   "source": [
    "# add padding to pack_size list\n",
    "max_length_p = max(max(len(arr) for arr in pack_size), max(len(arr) for arr in pack_size))\n",
    "\n",
    "def pad_sequence(sequence, max_length):\n",
    "    return sequence + [0] * (max_length - len(sequence))\n",
    "\n",
    "pack_size = [pad_sequence(arr, max_length_p) for arr in pack_size]"
   ]
  },
  {
   "cell_type": "code",
   "execution_count": 23,
   "id": "ae1c9653",
   "metadata": {},
   "outputs": [],
   "source": [
    "# num_pack = np.array(num_pack).reshape(-1, 1)"
   ]
  },
  {
   "cell_type": "code",
   "execution_count": 24,
   "id": "785b1da6",
   "metadata": {
    "scrolled": false
   },
   "outputs": [
    {
     "name": "stdout",
     "output_type": "stream",
     "text": [
      "9993\n",
      "24000\n",
      "24000\n",
      "9993\n"
     ]
    }
   ],
   "source": [
    "print(max_length_p)\n",
    "print(len(pack_size))\n",
    "print(len(num_pack))\n",
    "print(len(pack_size[0]))"
   ]
  },
  {
   "cell_type": "markdown",
   "id": "8290a4f2",
   "metadata": {},
   "source": [
    "## Convert to DataFrame"
   ]
  },
  {
   "cell_type": "markdown",
   "id": "026c76f9",
   "metadata": {},
   "source": [
    "### closed-world"
   ]
  },
  {
   "cell_type": "code",
   "execution_count": 25,
   "id": "c3483613",
   "metadata": {},
   "outputs": [
    {
     "name": "stdout",
     "output_type": "stream",
     "text": [
      "                                           pack_size  \\\n",
      "0  [-512, -512, 512, -512, 512, -512, 512, 512, -...   \n",
      "1  [-512, -512, 512, -512, 512, -512, 512, 512, -...   \n",
      "2  [-512, -512, 512, -512, 512, -512, 512, 512, -...   \n",
      "3  [-512, -512, 512, -512, 512, -512, 512, 512, -...   \n",
      "4  [-512, -512, 512, -512, 512, -512, 512, 512, -...   \n",
      "\n",
      "                                           timestamp  \\\n",
      "0  [0.0, 0.14, 0.14, 0.31, 0.31, 0.51, 0.51, 0.51...   \n",
      "1  [0.0, 0.13, 0.13, 0.31, 0.77, 1.11, 1.11, 1.11...   \n",
      "2  [0.0, 0.11, 0.11, 0.23, 0.97, 1.11, 1.11, 1.11...   \n",
      "3  [0.0, 0.27, 0.27, 0.6, 0.6, 0.88, 0.89, 0.89, ...   \n",
      "4  [0.0, 0.11, 0.11, 0.36, 0.36, 0.6, 0.6, 0.6, 0...   \n",
      "\n",
      "                                    cumulative_sizes  \\\n",
      "0  [-512, -1024, -512, -1024, -512, -1024, -512, ...   \n",
      "1  [-512, -1024, -512, -1024, -512, -1024, -512, ...   \n",
      "2  [-512, -1024, -512, -1024, -512, -1024, -512, ...   \n",
      "3  [-512, -1024, -512, -1024, -512, -1024, -512, ...   \n",
      "4  [-512, -1024, -512, -1024, -512, -1024, -512, ...   \n",
      "\n",
      "                                               burst  num_pack  \\\n",
      "0  [-1024, 512, -512, 512, -512, 1024, -7168, 512...      1300   \n",
      "1  [-1024, 512, -512, 512, -512, 1024, -7168, 512...       438   \n",
      "2  [-1024, 512, -512, 512, -512, 1024, -7168, 512...      1240   \n",
      "3  [-1024, 512, -512, 512, -512, 1024, -7168, 512...      1324   \n",
      "4  [-1024, 512, -512, 512, -512, 1024, -7168, 512...      1291   \n",
      "\n",
      "                                                 med  \n",
      "0  [0.07, 0.14, 0.31, 0.31, 0.51, 0.51, 0.815, 0....  \n",
      "1  [0.065, 0.13, 0.31, 0.77, 1.11, 1.11, 1.31, 1....  \n",
      "2  [0.055, 0.11, 0.23, 0.97, 1.11, 1.11, 1.3, 1.3...  \n",
      "3  [0.135, 0.27, 0.6, 0.6, 0.88, 0.89, 1.28, 1.34...  \n",
      "4  [0.055, 0.11, 0.36, 0.36, 0.6, 0.6, 0.89, 1.09...  \n"
     ]
    }
   ],
   "source": [
    "import pandas as pd\n",
    "\n",
    "# Convert to DataFrame\n",
    "data = []\n",
    "for i in range(len(pack_size_mon)):\n",
    "    columns = [pack_size_mon[i], timestamp_mon[i], cumulative_sizes_mon[i], burst_mon[i], num_pack_mon[i], med_mon[i]]\n",
    "    data.append(columns)\n",
    "\n",
    "features_closed = pd.DataFrame(data, columns=['pack_size', 'timestamp', 'cumulative_sizes', 'burst', 'num_pack', 'med'])\n",
    "                        \n",
    "print(features_closed.head())"
   ]
  },
  {
   "cell_type": "code",
   "execution_count": 29,
   "id": "89832c58",
   "metadata": {},
   "outputs": [
    {
     "name": "stdout",
     "output_type": "stream",
     "text": [
      "                                               pack_size  \\\n",
      "18995  [-512, -512, 512, -512, 512, -512, 512, 512, -...   \n",
      "18996  [-512, -512, 512, -512, 512, -512, 512, 512, -...   \n",
      "18997  [-512, -512, 512, -512, 512, -512, 512, 512, -...   \n",
      "18998  [-512, -512, 512, -512, 512, -512, 512, 512, -...   \n",
      "18999  [-512, -512, 512, -512, 512, -512, 512, 512, -...   \n",
      "\n",
      "                                               timestamp  \\\n",
      "18995  [0.0, 0.15, 0.15, 0.33, 0.91, 1.12, 1.13, 1.13...   \n",
      "18996  [0.0, 0.16, 0.16, 0.35, 0.99, 1.26, 1.26, 1.26...   \n",
      "18997  [0.0, 0.11, 0.11, 0.36, 0.36, 0.83, 0.83, 0.83...   \n",
      "18998  [0.0, 0.17, 0.17, 0.32, 1.98, 2.56, 2.56, 2.56...   \n",
      "18999  [0.0, 0.12, 0.12, 0.46, 0.46, 0.72, 0.73, 0.73...   \n",
      "\n",
      "                                        cumulative_sizes  \\\n",
      "18995  [-512, -1024, -512, -1024, -512, -1024, -512, ...   \n",
      "18996  [-512, -1024, -512, -1024, -512, -1024, -512, ...   \n",
      "18997  [-512, -1024, -512, -1024, -512, -1024, -512, ...   \n",
      "18998  [-512, -1024, -512, -1024, -512, -1024, -512, ...   \n",
      "18999  [-512, -1024, -512, -1024, -512, -1024, -512, ...   \n",
      "\n",
      "                                                   burst  num_pack  \\\n",
      "18995  [-1024, 512, -512, 512, -512, 1024, -7680, 102...      8815   \n",
      "18996  [-1024, 512, -512, 512, -512, 1024, -7680, 102...      9404   \n",
      "18997  [-1024, 512, -512, 512, -512, 1024, -7680, 153...      9373   \n",
      "18998  [-1024, 512, -512, 512, -512, 1024, -7680, 102...      9236   \n",
      "18999  [-1024, 512, -512, 512, -512, 1024, -7680, 102...      9168   \n",
      "\n",
      "                                                     med  \n",
      "18995  [0.075, 0.15, 0.33, 0.91, 1.12, 1.13, 1.35, 1....  \n",
      "18996  [0.08, 0.16, 0.35, 0.99, 1.26, 1.26, 1.49, 1.5...  \n",
      "18997  [0.055, 0.11, 0.36, 0.36, 0.83, 0.83, 1.14, 1....  \n",
      "18998  [0.085, 0.17, 0.32, 1.98, 2.56, 2.56, 2.91, 2....  \n",
      "18999  [0.06, 0.12, 0.46, 0.46, 0.72, 0.73, 1.06, 1.2...  \n"
     ]
    }
   ],
   "source": [
    "print(features_closed.tail())"
   ]
  },
  {
   "cell_type": "markdown",
   "id": "514d3073",
   "metadata": {},
   "source": [
    "### open-world "
   ]
  },
  {
   "cell_type": "code",
   "execution_count": 26,
   "id": "a114c897",
   "metadata": {},
   "outputs": [
    {
     "name": "stdout",
     "output_type": "stream",
     "text": [
      "                                           pack_size  \\\n",
      "0  [-512, -512, 512, -512, 512, -512, 512, 512, -...   \n",
      "1  [-512, -512, 512, -512, 512, -512, 512, 512, -...   \n",
      "2  [-512, -512, 512, -512, 512, -512, 512, 512, -...   \n",
      "3  [-512, -512, 512, -512, 512, -512, 512, 512, -...   \n",
      "4  [-512, -512, 512, -512, 512, -512, 512, 512, -...   \n",
      "\n",
      "                                           timestamp  \\\n",
      "0  [0.0, 0.14, 0.14, 0.31, 0.31, 0.51, 0.51, 0.51...   \n",
      "1  [0.0, 0.13, 0.13, 0.31, 0.77, 1.11, 1.11, 1.11...   \n",
      "2  [0.0, 0.11, 0.11, 0.23, 0.97, 1.11, 1.11, 1.11...   \n",
      "3  [0.0, 0.27, 0.27, 0.6, 0.6, 0.88, 0.89, 0.89, ...   \n",
      "4  [0.0, 0.11, 0.11, 0.36, 0.36, 0.6, 0.6, 0.6, 0...   \n",
      "\n",
      "                                    cumulative_sizes  \\\n",
      "0  [-512, -1024, -512, -1024, -512, -1024, -512, ...   \n",
      "1  [-512, -1024, -512, -1024, -512, -1024, -512, ...   \n",
      "2  [-512, -1024, -512, -1024, -512, -1024, -512, ...   \n",
      "3  [-512, -1024, -512, -1024, -512, -1024, -512, ...   \n",
      "4  [-512, -1024, -512, -1024, -512, -1024, -512, ...   \n",
      "\n",
      "                                               burst  num_pack  \\\n",
      "0  [-1024, 512, -512, 512, -512, 1024, -7168, 512...      1300   \n",
      "1  [-1024, 512, -512, 512, -512, 1024, -7168, 512...       438   \n",
      "2  [-1024, 512, -512, 512, -512, 1024, -7168, 512...      1240   \n",
      "3  [-1024, 512, -512, 512, -512, 1024, -7168, 512...      1324   \n",
      "4  [-1024, 512, -512, 512, -512, 1024, -7168, 512...      1291   \n",
      "\n",
      "                                                 med  \n",
      "0  [0.07, 0.14, 0.31, 0.31, 0.51, 0.51, 0.815, 0....  \n",
      "1  [0.065, 0.13, 0.31, 0.77, 1.11, 1.11, 1.31, 1....  \n",
      "2  [0.055, 0.11, 0.23, 0.97, 1.11, 1.11, 1.3, 1.3...  \n",
      "3  [0.135, 0.27, 0.6, 0.6, 0.88, 0.89, 1.28, 1.34...  \n",
      "4  [0.055, 0.11, 0.36, 0.36, 0.6, 0.6, 0.89, 1.09...  \n"
     ]
    }
   ],
   "source": [
    "import pandas as pd\n",
    "\n",
    "# Convert to DataFrame\n",
    "data = []\n",
    "for i in range(len(pack_size)):\n",
    "    columns = [pack_size[i], timestamp[i], cumulative_sizes[i], burst[i], num_pack[i], med[i]]\n",
    "    data.append(columns)\n",
    "\n",
    "features_open = pd.DataFrame(data, columns=['pack_size', 'timestamp', 'cumulative_sizes', 'burst', 'num_pack', 'med'])\n",
    "                        \n",
    "print(features_open.head())"
   ]
  },
  {
   "cell_type": "code",
   "execution_count": 28,
   "id": "ff3f077c",
   "metadata": {},
   "outputs": [
    {
     "name": "stdout",
     "output_type": "stream",
     "text": [
      "                                               pack_size  \\\n",
      "23995  [-512, -512, 512, -512, 512, -512, 512, -512, ...   \n",
      "23996  [-512, -512, 512, -512, 512, -512, 512, -512, ...   \n",
      "23997  [-512, -512, 512, -512, 512, -512, 512, -512, ...   \n",
      "23998  [-512, -512, 512, -512, 512, -512, 512, -512, ...   \n",
      "23999  [-512, -512, 512, -512, 512, -512, 512, -512, ...   \n",
      "\n",
      "                                               timestamp  \\\n",
      "23995  [0.0, 0.12, 0.12, 0.28, 1.58, 1.77, 1.77, 1.95...   \n",
      "23996  [0.0, 0.11, 0.11, 0.27, 1.49, 1.64, 1.64, 1.78...   \n",
      "23997  [0.0, 0.12, 0.12, 0.31, 1.24, 1.44, 1.45, 1.61...   \n",
      "23998  [0.0, 0.14, 0.14, 0.34, 1.94, 2.53, 2.53, 2.8,...   \n",
      "23999  [0.0, 0.12, 0.12, 0.26, 0.58, 0.88, 0.88, 1.02...   \n",
      "\n",
      "                                        cumulative_sizes  \\\n",
      "23995  [-512, -1024, -512, -1024, -512, -1024, -512, ...   \n",
      "23996  [-512, -1024, -512, -1024, -512, -1024, -512, ...   \n",
      "23997  [-512, -1024, -512, -1024, -512, -1024, -512, ...   \n",
      "23998  [-512, -1024, -512, -1024, -512, -1024, -512, ...   \n",
      "23999  [-512, -1024, -512, -1024, -512, -1024, -512, ...   \n",
      "\n",
      "                                                   burst  num_pack  \\\n",
      "23995  [-1024, 512, -512, 512, -512, 512, -1024, 1536...      4798   \n",
      "23996  [-1024, 512, -512, 512, -512, 512, -1024, 1024...      2455   \n",
      "23997  [-1024, 512, -512, 512, -512, 512, -1024, 512,...      2781   \n",
      "23998  [-1024, 512, -512, 512, -512, 512, -1024, 512,...      8098   \n",
      "23999  [-1024, 512, -512, 512, -512, 512, -1024, 512,...      2716   \n",
      "\n",
      "                                                     med  \n",
      "23995  [0.06, 0.12, 0.28, 1.58, 1.77, 1.77, 1.95, 3.1...  \n",
      "23996  [0.055, 0.11, 0.27, 1.49, 1.64, 1.64, 1.78, 2....  \n",
      "23997  [0.06, 0.12, 0.31, 1.24, 1.44, 1.45, 1.61, 2.8...  \n",
      "23998  [0.07, 0.14, 0.34, 1.94, 2.53, 2.53, 2.8, 3.85...  \n",
      "23999  [0.06, 0.12, 0.26, 0.58, 0.88, 0.88, 1.02, 2.0...  \n"
     ]
    }
   ],
   "source": [
    "print(features_open.tail())"
   ]
  },
  {
   "cell_type": "code",
   "execution_count": 30,
   "id": "5a32ea64",
   "metadata": {
    "scrolled": true
   },
   "outputs": [
    {
     "data": {
      "text/plain": [
       "0        9993\n",
       "1        9993\n",
       "2        9993\n",
       "3        9993\n",
       "4        9993\n",
       "         ... \n",
       "18995    9993\n",
       "18996    9993\n",
       "18997    9993\n",
       "18998    9993\n",
       "18999    9993\n",
       "Name: pack_size, Length: 19000, dtype: int64"
      ]
     },
     "execution_count": 30,
     "metadata": {},
     "output_type": "execute_result"
    }
   ],
   "source": [
    "len(features_closed['pack_size'])\n",
    "features_closed['pack_size'].apply(len)"
   ]
  },
  {
   "cell_type": "code",
   "execution_count": 31,
   "id": "fa1281cb",
   "metadata": {},
   "outputs": [
    {
     "data": {
      "text/plain": [
       "0        9993\n",
       "1        9993\n",
       "2        9993\n",
       "3        9993\n",
       "4        9993\n",
       "         ... \n",
       "23995    9993\n",
       "23996    9993\n",
       "23997    9993\n",
       "23998    9993\n",
       "23999    9993\n",
       "Name: pack_size, Length: 24000, dtype: int64"
      ]
     },
     "execution_count": 31,
     "metadata": {},
     "output_type": "execute_result"
    }
   ],
   "source": [
    "len(features_open['pack_size'])\n",
    "features_open['pack_size'].apply(len)"
   ]
  },
  {
   "cell_type": "code",
   "execution_count": 32,
   "id": "16feda62",
   "metadata": {},
   "outputs": [],
   "source": [
    "features_closed.to_csv('./features_closed.csv')"
   ]
  },
  {
   "cell_type": "code",
   "execution_count": 33,
   "id": "803c61e4",
   "metadata": {},
   "outputs": [],
   "source": [
    "features_open.to_csv('./features_open.csv')"
   ]
  },
  {
   "cell_type": "markdown",
   "id": "9189b979",
   "metadata": {},
   "source": [
    "### Labels"
   ]
  },
  {
   "cell_type": "markdown",
   "id": "d6b2c8c7",
   "metadata": {},
   "source": [
    "### open world setting\n",
    "Binary Classification: labels_mon(reassign as 1) + labels_unmon(-1) <br>\n",
    "Multi-class Classification: labels_mon(0-94) + labels_unmon(reassign as 95)"
   ]
  },
  {
   "cell_type": "markdown",
   "id": "ac03334a",
   "metadata": {},
   "source": [
    "### Convert to DataFrame"
   ]
  },
  {
   "cell_type": "code",
   "execution_count": 34,
   "id": "e6f32733",
   "metadata": {},
   "outputs": [
    {
     "name": "stdout",
     "output_type": "stream",
     "text": [
      "   y\n",
      "0  0\n",
      "1  0\n",
      "2  0\n",
      "3  0\n",
      "4  0\n"
     ]
    }
   ],
   "source": [
    "import pandas as pd\n",
    "\n",
    "y_mon = pd.DataFrame(y_mon, columns=['y'])\n",
    "print(y_mon.head())\n",
    "\n",
    "y_mon.to_csv('./y_mon.csv')"
   ]
  },
  {
   "cell_type": "code",
   "execution_count": 39,
   "id": "4ca3c116",
   "metadata": {},
   "outputs": [
    {
     "name": "stdout",
     "output_type": "stream",
     "text": [
      "        y\n",
      "18995  94\n",
      "18996  94\n",
      "18997  94\n",
      "18998  94\n",
      "18999  94\n"
     ]
    }
   ],
   "source": [
    "print(y_mon.tail())"
   ]
  },
  {
   "cell_type": "code",
   "execution_count": 35,
   "id": "518b4d78",
   "metadata": {},
   "outputs": [],
   "source": [
    "# assign labels for binary classification\n",
    "y_bin = np.concatenate((np.ones(len(y_mon)), -1 * np.ones(len(y_unmon)))) # 1/-1\n",
    "y_bin = y_bin.astype(int)"
   ]
  },
  {
   "cell_type": "code",
   "execution_count": 36,
   "id": "83364532",
   "metadata": {},
   "outputs": [
    {
     "name": "stdout",
     "output_type": "stream",
     "text": [
      "       y\n",
      "4995  95\n",
      "4996  95\n",
      "4997  95\n",
      "4998  95\n",
      "4999  95\n"
     ]
    }
   ],
   "source": [
    "# assign labels for multi classification\n",
    "y_multi_unmon = 95*np.ones(len(y_unmon))\n",
    "\n",
    "# astype() 함수를 사용하여 정수형으로 변환\n",
    "y_multi_unmon = y_multi_unmon.astype(int)\n",
    "\n",
    "y_multi_unmon = pd.DataFrame(y_multi_unmon, columns=['y'])\n",
    "print(y_multi_unmon.tail())"
   ]
  },
  {
   "cell_type": "code",
   "execution_count": 37,
   "id": "98ca2a40",
   "metadata": {},
   "outputs": [],
   "source": [
    "y_mul = pd.concat([y_mon, y_multi_unmon], axis=0, ignore_index=True)"
   ]
  },
  {
   "cell_type": "code",
   "execution_count": 38,
   "id": "4087508f",
   "metadata": {},
   "outputs": [
    {
     "name": "stdout",
     "output_type": "stream",
     "text": [
      "       y\n",
      "23995 -1\n",
      "23996 -1\n",
      "23997 -1\n",
      "23998 -1\n",
      "23999 -1\n",
      "        y\n",
      "23995  95\n",
      "23996  95\n",
      "23997  95\n",
      "23998  95\n",
      "23999  95\n"
     ]
    }
   ],
   "source": [
    "import pandas as pd\n",
    "\n",
    "y_bin = pd.DataFrame(y_bin, columns=['y'])\n",
    "y_mul = pd.DataFrame(y_mul, columns=['y'])\n",
    "\n",
    "print(y_bin.tail())\n",
    "print(y_mul.tail())\n",
    "\n",
    "y_bin.to_csv('./y_bin.csv')\n",
    "y_mul.to_csv('./y_mul.csv')"
   ]
  }
 ],
 "metadata": {
  "kernelspec": {
   "display_name": "Python 3 (ipykernel)",
   "language": "python",
   "name": "python3"
  },
  "language_info": {
   "codemirror_mode": {
    "name": "ipython",
    "version": 3
   },
   "file_extension": ".py",
   "mimetype": "text/x-python",
   "name": "python",
   "nbconvert_exporter": "python",
   "pygments_lexer": "ipython3",
   "version": "3.9.13"
  }
 },
 "nbformat": 4,
 "nbformat_minor": 5
}
