{
 "cells": [
  {
   "cell_type": "markdown",
   "metadata": {
    "id": "6a7b3a0l2ep4"
   },
   "source": [
    "1. 데이터 전처리 및 피쳐 추출\n",
    "- the sequence of packet sizes\n",
    "[-512,-512,512,-512,…]\n",
    "- Number of incoming packets\n",
    "\n",
    "> monitored\n",
    "\n",
    "\n",
    "\n"
   ]
  },
  {
   "cell_type": "code",
   "execution_count": 1,
   "metadata": {
    "colab": {
     "base_uri": "https://localhost:8080/"
    },
    "executionInfo": {
     "elapsed": 44143,
     "status": "ok",
     "timestamp": 1701274321845,
     "user": {
      "displayName": "김채리",
      "userId": "04005792170041472503"
     },
     "user_tz": -540
    },
    "id": "5mfwrTwPtd36",
    "outputId": "cc7221e8-1121-47fe-927e-c4f1b912c8e5",
    "ExecuteTime": {
     "end_time": "2023-12-01T17:40:53.868236500Z",
     "start_time": "2023-12-01T17:39:54.445696900Z"
    }
   },
   "outputs": [
    {
     "name": "stdout",
     "output_type": "stream",
     "text": [
      "Loading datafile...\n",
      "Total samples: 19000\n"
     ]
    }
   ],
   "source": [
    "import pickle\n",
    "import numpy as np\n",
    "\n",
    "USE_SUBLABEL = False\n",
    "URL_PER_SITE = 10\n",
    "TOTAL_URLS   = 950\n",
    "\n",
    "# Load the pickle file\n",
    "print(\"Loading datafile...\")\n",
    "with open(\"./dataset/mon_standard.pkl\", 'rb') as fi: # Path to mon_standard.pkl in Colab\n",
    "    data = pickle.load(fi)\n",
    "\n",
    "X_pack_size = [] # Array to store instances (direction*size) - size information\n",
    "y = [] # Array to store the site of each instance - 19,000 instances, e.g., [0, 0, 0, 0, 0, 0, ..., 94, 94, 94, 94, 94]\n",
    "X_num_pack = [] # Array to store the incoming num of packets\n",
    "\n",
    "# Differentiate instances and sites, and store them in the respective x and y arrays\n",
    "# x array (direction*timestamp), y array (site label)\n",
    "for i in range(TOTAL_URLS):\n",
    "    if USE_SUBLABEL:\n",
    "        label = i\n",
    "    else:\n",
    "        label = i // URL_PER_SITE # Calculate which site's URL the current URL being processed belongs to and set that value as the label. Thus, URLs fetched from the same site are labeled identically.\n",
    "    for sample in data[i]:\n",
    "        num_pack = 0\n",
    "        size_seq = []\n",
    "        for i, c in enumerate(sample):\n",
    "            dr = 1 if c > 0 else -1\n",
    "            size_seq.append(dr * 512)\n",
    "            if dr == -1:\n",
    "                num_pack += 1\n",
    "        X_pack_size.append(size_seq)\n",
    "        X_num_pack.append(num_pack)\n",
    "        y.append(label)\n",
    "\n",
    "size = len(y)\n",
    "\n",
    "print(f'Total samples: {size}') # Output: 19000\n"
   ]
  },
  {
   "cell_type": "markdown",
   "source": [
    "> unmonitored"
   ],
   "metadata": {
    "id": "_2rxYg6xoHy8"
   }
  },
  {
   "cell_type": "code",
   "source": [
    "TOTAL_URLS = 5000  # total number in the dataset\n",
    "\n",
    "# Load 10,000 unmon pickle file\n",
    "print(\"Loading datafile...\")\n",
    "\n",
    "with open('./dataset/unmon_standard10.pkl', 'rb') as f:  # Path to unmon_standard10.pkl in Colab\n",
    "  x = pickle.load(f)\n",
    "size = len(x)\n",
    "print(f'Total samples: {size}')\n",
    "\n",
    "for i in range(TOTAL_URLS):\n",
    "    size_seq = []\n",
    "    num_pack = 0\n",
    "    for c in x[i]:\n",
    "        dr = 1 if c > 0 else -1\n",
    "        size_seq.append(dr * 512) # In the pickle file, there is no size information, so the conversion code is set to multiply by 512 uniformly.\n",
    "        if dr == -1:\n",
    "            num_pack += 1\n",
    "    # size_seq = np.pad(size_seq, (0, TOTAL_URLS - len(size_seq)), 'constant')\n",
    "    X_pack_size.append(size_seq)\n",
    "    X_num_pack.append(num_pack)\n",
    "    y.append(-1)\n",
    "\n",
    "print(len(X_pack_size)) # Print the length of X1"
   ],
   "metadata": {
    "id": "kBju-JbfoJ8g",
    "ExecuteTime": {
     "end_time": "2023-12-01T17:41:09.041678700Z",
     "start_time": "2023-12-01T17:40:53.849235200Z"
    }
   },
   "execution_count": 2,
   "outputs": [
    {
     "name": "stdout",
     "output_type": "stream",
     "text": [
      "Loading datafile...\n",
      "Total samples: 10000\n",
      "24000\n"
     ]
    }
   ]
  },
  {
   "cell_type": "code",
   "execution_count": 3,
   "outputs": [],
   "source": [
    "max_length = max(len(arr) for arr in X_pack_size)\n",
    "\n",
    "# 각 배열의 길이를 최대 길이에 맞춰 늘리고 부족한 부분은 0으로 채웁니다.\n",
    "def pad_sequence(sequence, max_length):\n",
    "    return sequence + [0] * (max_length - len(sequence))\n",
    "\n",
    "X_pack_size_padded = [pad_sequence(arr, max_length) for arr in X_pack_size]"
   ],
   "metadata": {
    "collapsed": false,
    "ExecuteTime": {
     "end_time": "2023-12-01T17:41:28.871617Z",
     "start_time": "2023-12-01T17:41:09.058636Z"
    }
   }
  },
  {
   "cell_type": "code",
   "execution_count": 4,
   "outputs": [
    {
     "data": {
      "text/plain": "24000"
     },
     "execution_count": 4,
     "metadata": {},
     "output_type": "execute_result"
    }
   ],
   "source": [
    "len(X_pack_size_padded)"
   ],
   "metadata": {
    "collapsed": false,
    "ExecuteTime": {
     "end_time": "2023-12-01T17:41:29.634892300Z",
     "start_time": "2023-12-01T17:41:29.348930300Z"
    }
   }
  },
  {
   "cell_type": "code",
   "execution_count": 5,
   "metadata": {
    "id": "KTS0_TzFDTgS",
    "ExecuteTime": {
     "end_time": "2023-12-01T17:44:32.302807600Z",
     "start_time": "2023-12-01T17:41:29.675451Z"
    }
   },
   "outputs": [],
   "source": [
    "import numpy as np\n",
    "from sklearn.model_selection import train_test_split\n",
    "\n",
    "# 2D 배열로 변환\n",
    "X_pack_size_array = np.array(X_pack_size_padded)\n",
    "X_num_pack_array = np.array(X_num_pack).reshape(-1, 1)\n",
    "X_all = np.concatenate((X_pack_size_array, X_num_pack_array), axis=1)\n",
    "\n",
    "# 데이터를 학습 및 테스트 세트로 나눔\n",
    "X_train_all, X_test_all, y_train_all, y_test_all = train_test_split(X_all, y, test_size=0.2, random_state=42)"
   ]
  },
  {
   "cell_type": "markdown",
   "metadata": {
    "id": "yz5mat0w2dJy"
   },
   "source": [
    "2. 모델 학습\n",
    "- SVM\n",
    "\n"
   ]
  },
  {
   "cell_type": "code",
   "execution_count": 6,
   "metadata": {
    "id": "wR4frYHD_Rlb",
    "ExecuteTime": {
     "end_time": "2023-12-01T17:44:34.120566300Z",
     "start_time": "2023-12-01T17:44:32.279861900Z"
    }
   },
   "outputs": [],
   "source": [
    "from sklearn.metrics import accuracy_score\n",
    "from sklearn.metrics import precision_score, recall_score\n",
    "from sklearn.model_selection import GridSearchCV\n",
    "\n",
    "from sklearn.svm import SVC\n",
    "from sklearn.ensemble import RandomForestClassifier\n",
    "from sklearn.neighbors import KNeighborsClassifier"
   ]
  },
  {
   "cell_type": "code",
   "execution_count": 7,
   "metadata": {
    "colab": {
     "background_save": true,
     "base_uri": "https://localhost:8080/"
    },
    "id": "46tiCbOZ6B1H",
    "outputId": "46df9e82-0f53-4aab-98b2-9edaf498219e",
    "ExecuteTime": {
     "end_time": "2023-12-01T18:31:40.344413200Z",
     "start_time": "2023-12-01T17:44:34.138562100Z"
    }
   },
   "outputs": [
    {
     "name": "stdout",
     "output_type": "stream",
     "text": [
      "True Positive Rate: 0.7889583333333333\n",
      "False Positive Rate: 0.21104166666666668\n",
      "Precision: 0.7889583333333333\n"
     ]
    }
   ],
   "source": [
    "svm_model = SVC(kernel='linear', C=1.0, random_state=42)\n",
    "svm_model.fit(X_train_all, y_train_all)\n",
    "y_pred_svm = svm_model.predict(X_test_all)\n",
    "tpr = recall_score(y_test_all, y_pred_svm, average='micro')\n",
    "precision = precision_score(y_test_all, y_pred_svm, average='micro')\n",
    "print(f'True Positive Rate: {tpr}')\n",
    "print(f'False Positive Rate: {1 - tpr}')\n",
    "print(f'Precision: {precision}')\n",
    "\n",
    "# Hyperparameter tuning with GridSearchCV\n",
    "# param_grid = {'C': [0.1, 1, 10, 100, 1000],\n",
    "#               'gamma': [1, 0.1, 0.01, 0.001, 0.0001],\n",
    "#               'kernel': ['rbf']}\n",
    "# grid_search = GridSearchCV(svm_model_all, param_grid, cv=5, scoring='accuracy')\n",
    "# grid_search.fit(X_train_all, y_train_all)\n",
    "#\n",
    "# best_params = grid_search.best_params_\n",
    "# best_model = grid_search.best_estimator_\n",
    "# y_pred_tuned = best_model.predict(X_test_all)\n",
    "# accuracy_tuned = accuracy_score(y_test_all.values, y_pred_tuned)\n",
    "# print(\"Best Parameters:\", best_params)\n",
    "# print(\"Tuned Model Accuracy:\", accuracy_tuned)"
   ]
  },
  {
   "cell_type": "markdown",
   "metadata": {
    "id": "nNs9nbKv8LfZ"
   },
   "source": [
    "- random forest"
   ]
  },
  {
   "cell_type": "code",
   "execution_count": 8,
   "metadata": {
    "id": "bjJKhYdbESxi",
    "ExecuteTime": {
     "end_time": "2023-12-01T18:31:55.328537300Z",
     "start_time": "2023-12-01T18:31:40.366865400Z"
    }
   },
   "outputs": [
    {
     "name": "stdout",
     "output_type": "stream",
     "text": [
      "True Positive Rate: 0.5572916666666666\n",
      "False Positive Rate: 0.44270833333333337\n",
      "Precision: 0.5572916666666666\n"
     ]
    }
   ],
   "source": [
    "# All feature\n",
    "rf_model_all = RandomForestClassifier(n_estimators=20, criterion=\"entropy\", random_state=1)\n",
    "rf_model_all.fit(X_train_all, y_train_all)\n",
    "y_pred_rf_all = rf_model_all.predict(X_test_all)\n",
    "tpr = recall_score(y_test_all, y_pred_rf_all, average='micro')\n",
    "precision = precision_score(y_test_all, y_pred_rf_all, average='micro')\n",
    "print(f'True Positive Rate: {tpr}')\n",
    "print(f'False Positive Rate: {1 - tpr}')\n",
    "print(f'Precision: {precision}')\n"
   ]
  },
  {
   "cell_type": "code",
   "execution_count": 9,
   "metadata": {
    "id": "wzunPc6jotne",
    "ExecuteTime": {
     "end_time": "2023-12-01T18:32:22.493762400Z",
     "start_time": "2023-12-01T18:31:55.350678800Z"
    }
   },
   "outputs": [
    {
     "name": "stdout",
     "output_type": "stream",
     "text": [
      "True Positive Rate: 0.2627083333333333\n",
      "False Positive Rate: 0.7372916666666667\n",
      "Precision: 0.2627083333333333\n"
     ]
    }
   ],
   "source": [
    "# All feature\n",
    "knn_model_all = KNeighborsClassifier(n_neighbors=5)\n",
    "knn_model_all.fit(X_train_all, y_train_all)\n",
    "y_pred_knn_all = knn_model_all.predict(X_test_all)\n",
    "tpr = recall_score(y_test_all, y_pred_knn_all, average='micro')\n",
    "precision = precision_score(y_test_all, y_pred_knn_all, average='micro')\n",
    "print(f'True Positive Rate: {tpr}')\n",
    "print(f'False Positive Rate: {1 - tpr}')\n",
    "print(f'Precision: {precision}')"
   ]
  },
  {
   "cell_type": "code",
   "execution_count": null,
   "outputs": [],
   "source": [
    "# Hyperparameter tuning with GridSearchCV\n",
    "param_grid = {'C': [0.1, 1, 10, 100, 1000],\n",
    "              'gamma': [1, 0.1, 0.01, 0.001, 0.0001],\n",
    "              'kernel': ['rbf']}\n",
    "grid_search = GridSearchCV(svm_model, param_grid, cv=5, scoring='accuracy')\n",
    "grid_search.fit(X_train_all, y_train_all)\n",
    "\n",
    "best_params_svm = grid_search.best_params_\n",
    "best_model_svm = grid_search.best_estimator_\n",
    "y_pred_tuned_svm = best_model_svm.predict(X_test_all)\n",
    "accuracy_tuned_svm = accuracy_score(y_test_all, y_pred_tuned_svm)\n",
    "print(\"Best Parameters:\", best_params_svm)\n",
    "print(\"Tuned Model Accuracy:\", accuracy_tuned_svm)"
   ],
   "metadata": {
    "collapsed": false,
    "is_executing": true,
    "ExecuteTime": {
     "start_time": "2023-12-01T18:32:22.521767Z"
    }
   }
  },
  {
   "cell_type": "code",
   "execution_count": null,
   "outputs": [],
   "source": [
    "# Hyperparameter tuning with GridSearchCV\n",
    "param_grid = {'n_estimators': [20, 50, 100, 200], 'criterion': ['gini', 'entropy']}\n",
    "grid_search = GridSearchCV(rf_model_all, param_grid, cv=5, scoring='accuracy')\n",
    "grid_search.fit(X_train_all, y_train_all)\n",
    "\n",
    "best_params_rf = grid_search.best_params_\n",
    "best_model_rf = grid_search.best_estimator_\n",
    "y_pred_tuned_rf = best_model_rf.predict(X_test_all)\n",
    "accuracy_tuned_rf = accuracy_score(y_test_all, y_pred_tuned_rf)\n",
    "print(\"Best Parameters:\", best_params_rf)\n",
    "print(\"Tuned Model Accuracy:\", accuracy_tuned_rf)"
   ],
   "metadata": {
    "collapsed": false,
    "is_executing": true
   }
  },
  {
   "cell_type": "code",
   "execution_count": null,
   "outputs": [],
   "source": [
    "# Hyperparameter tuning with GridSearchCV\n",
    "param_grid = { 'n_neighbors' : [5,7,9,11,13,15],\n",
    "               'weights' : ['uniform','distance'],\n",
    "               'metric' : ['minkowski','euclidean','manhattan']}\n",
    "grid_search = GridSearchCV(knn_model_all, param_grid, cv=5, scoring='accuracy')\n",
    "grid_search.fit(X_train_all, y_train_all)\n",
    "\n",
    "best_params_knn = grid_search.best_params_\n",
    "best_model_knn = grid_search.best_estimator_\n",
    "y_pred_tuned_knn = best_model_knn.predict(X_test_all)\n",
    "accuracy_tuned_knn = accuracy_score(y_test_all, y_pred_tuned_knn)\n",
    "print(\"Best Parameters:\", best_params_knn)\n",
    "print(\"Tuned Model Accuracy:\", accuracy_tuned_knn)"
   ],
   "metadata": {
    "collapsed": false,
    "is_executing": true
   }
  }
 ],
 "metadata": {
  "colab": {
   "provenance": []
  },
  "gpuClass": "standard",
  "kernelspec": {
   "name": "python3",
   "language": "python",
   "display_name": "Python 3 (ipykernel)"
  },
  "language_info": {
   "name": "python"
  }
 },
 "nbformat": 4,
 "nbformat_minor": 0
}
