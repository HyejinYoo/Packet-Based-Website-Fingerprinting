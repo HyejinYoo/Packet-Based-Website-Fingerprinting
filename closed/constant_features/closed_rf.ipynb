{
  "nbformat": 4,
  "nbformat_minor": 0,
  "metadata": {
    "colab": {
      "provenance": []
    },
    "kernelspec": {
      "name": "python3",
      "display_name": "Python 3"
    },
    "language_info": {
      "name": "python"
    }
  },
  "cells": [
    {
      "cell_type": "code",
      "execution_count": 2,
      "metadata": {
        "colab": {
          "base_uri": "https://localhost:8080/"
        },
        "id": "S0nwoEDXjulL",
        "outputId": "fafba373-0bf4-4a61-84c5-1880c831dbe3"
      },
      "outputs": [
        {
          "output_type": "stream",
          "name": "stdout",
          "text": [
            "Drive already mounted at /content/drive; to attempt to forcibly remount, call drive.mount(\"/content/drive\", force_remount=True).\n",
            "Drive already mounted at /content/drive; to attempt to forcibly remount, call drive.mount(\"/content/drive\", force_remount=True).\n"
          ]
        }
      ],
      "source": [
        "import pandas as pd\n",
        "from sklearn.model_selection import train_test_split, GridSearchCV\n",
        "from sklearn.ensemble import RandomForestClassifier\n",
        "from sklearn.metrics import accuracy_score\n",
        "from google.colab import drive\n",
        "\n",
        "# Assuming 'your_data.csv' is your dataset file\n",
        "drive.mount('/content/drive')\n",
        "data = pd.read_csv(r'/content/drive/My Drive/Colab Notebooks/nor_constant_c.csv')\n",
        "\n",
        "X = data.iloc[:, :-1]  # 마지막 열을 제외한 모든 열\n",
        "y = data.iloc[:, -1]   # 마지막 열\n"
      ]
    },
    {
      "cell_type": "markdown",
      "source": [
        "feature importance"
      ],
      "metadata": {
        "id": "kTtlqg_h0Xor"
      }
    },
    {
      "cell_type": "code",
      "source": [
        "# Create and train a RandomForestClassifier\n",
        "rf_model = RandomForestClassifier(n_estimators=100, random_state=42)\n",
        "rf_model.fit(X_train, y_train)\n",
        "\n",
        "# Calculate and print feature importances\n",
        "feature_importances = rf_model.feature_importances_\n",
        "feature_names = X.columns\n",
        "\n",
        "# Create a DataFrame to display feature names and importances\n",
        "feature_importance_df = pd.DataFrame({'Feature': feature_names, 'Importance': feature_importances})\n",
        "feature_importance_df = feature_importance_df.sort_values(by='Importance', ascending=False)\n",
        "\n",
        "# Display the results\n",
        "print('\\nFeature Importances:')\n",
        "print(feature_importance_df)"
      ],
      "metadata": {
        "colab": {
          "base_uri": "https://localhost:8080/"
        },
        "id": "TwJXmjdSoqO9",
        "outputId": "55d97009-0bad-4e53-bfe6-243856f8b360"
      },
      "execution_count": 8,
      "outputs": [
        {
          "output_type": "stream",
          "name": "stdout",
          "text": [
            "\n",
            "Feature Importances:\n",
            "                     Feature  Importance\n",
            "8           total_pack_num_c    0.067456\n",
            "1               std_dev_in_c    0.063249\n",
            "2                  avg_out_c    0.061904\n",
            "9           total_pack_sum_c    0.061024\n",
            "5             out_pack_num_c    0.060122\n",
            "11            out_pack_sum_c    0.059816\n",
            "10             in_pack_sum_c    0.057701\n",
            "4              in_pack_num_c    0.057396\n",
            "3                   avg_in_c    0.052869\n",
            "6            in_pack_ratio_c    0.052054\n",
            "7           out_pack_ratio_c    0.051534\n",
            "13             std_dev_med_c    0.045361\n",
            "0              std_dev_out_c    0.037664\n",
            "17           std_burst_med_c    0.037568\n",
            "15           sum_burst_med_c    0.030502\n",
            "16           avg_burst_med_c    0.025321\n",
            "22  total_sum_pack_per_sec_c    0.024128\n",
            "12                 sum_med_c    0.023925\n",
            "23  total_num_pack_per_sec_c    0.023150\n",
            "14                 avg_med_c    0.022003\n",
            "21              out_sum_30_c    0.021488\n",
            "18               in_num_30_c    0.021480\n",
            "19              out_num_30_c    0.021244\n",
            "20               in_sum_30_c    0.021039\n"
          ]
        }
      ]
    },
    {
      "cell_type": "markdown",
      "source": [
        "튜닝 전 - all"
      ],
      "metadata": {
        "id": "39aUqSLx0dMi"
      }
    },
    {
      "cell_type": "code",
      "source": [
        "# Split the data into training and testing sets\n",
        "X_train, X_test, y_train, y_test = train_test_split(X, y, test_size=0.2, random_state=42)\n",
        "\n",
        "# 랜덤 포레스트 모델 생성 및 학습\n",
        "rf_model = RandomForestClassifier(n_estimators=100, random_state=42)\n",
        "rf_model.fit(X_train, y_train)\n",
        "\n",
        "# 테스트 데이터로 예측\n",
        "y_pred = rf_model.predict(X_test)\n",
        "\n",
        "# 정확도 출력\n",
        "accuracy = accuracy_score(y_test, y_pred)\n",
        "print(f'Accuracy: {accuracy}')"
      ],
      "metadata": {
        "colab": {
          "base_uri": "https://localhost:8080/"
        },
        "id": "M8KvXPuqpydx",
        "outputId": "36598cf2-4aa3-429a-fc67-789a8bc54b5f"
      },
      "execution_count": 7,
      "outputs": [
        {
          "output_type": "stream",
          "name": "stdout",
          "text": [
            "Accuracy: 0.7223684210526315\n"
          ]
        }
      ]
    },
    {
      "cell_type": "markdown",
      "source": [
        "튜닝 후 - all"
      ],
      "metadata": {
        "id": "JrkqfKTT0jSj"
      }
    },
    {
      "cell_type": "code",
      "source": [
        "# Define the parameter grid to search\n",
        "param_grid = {\n",
        "    'n_estimators': [50, 100, 200],\n",
        "    'max_depth': [None, 10, 20, 30],\n",
        "    'min_samples_split': [2, 5, 10],\n",
        "    'min_samples_leaf': [1, 2, 4]\n",
        "}\n",
        "\n",
        "# Create a RandomForestClassifier\n",
        "rf_model = RandomForestClassifier(random_state=42)\n",
        "\n",
        "# Create the GridSearchCV object\n",
        "grid_search = GridSearchCV(estimator=rf_model, param_grid=param_grid, cv=3, scoring='accuracy', n_jobs=-1)\n",
        "\n",
        "# Fit the grid search to the data\n",
        "grid_search.fit(X_train, y_train)\n",
        "\n",
        "# Get the best parameters and model\n",
        "best_params = grid_search.best_params_\n",
        "best_rf_model = grid_search.best_estimator_\n",
        "\n",
        "# Print the best parameters\n",
        "print(f\"Best Parameters: {best_params}\")\n",
        "\n",
        "# Predict using the best model\n",
        "y_pred = best_rf_model.predict(X_test)\n",
        "\n",
        "# Calculate accuracy\n",
        "accuracy = accuracy_score(y_test, y_pred)\n",
        "print(f'Accuracy: {accuracy}')"
      ],
      "metadata": {
        "colab": {
          "base_uri": "https://localhost:8080/"
        },
        "id": "5f9ghRoGpKUD",
        "outputId": "6c646b1b-fdae-47e5-9d5c-30a579dab8f5"
      },
      "execution_count": 6,
      "outputs": [
        {
          "output_type": "stream",
          "name": "stderr",
          "text": [
            "/usr/local/lib/python3.10/dist-packages/joblib/externals/loky/process_executor.py:752: UserWarning: A worker stopped while some jobs were given to the executor. This can be caused by a too short worker timeout or by a memory leak.\n",
            "  warnings.warn(\n"
          ]
        },
        {
          "output_type": "stream",
          "name": "stdout",
          "text": [
            "Best Parameters: {'max_depth': 30, 'min_samples_leaf': 1, 'min_samples_split': 2, 'n_estimators': 200}\n",
            "Accuracy: 0.723421052631579\n"
          ]
        }
      ]
    },
    {
      "cell_type": "markdown",
      "source": [
        "튜닝 전 - feature drop"
      ],
      "metadata": {
        "id": "KoPeIK3D0n2X"
      }
    },
    {
      "cell_type": "code",
      "source": [
        "# Select top 11 features\n",
        "top_features = feature_importance_df.head(22)['Feature'].tolist()\n",
        "\n",
        "# Use only the top 11 features\n",
        "X_top = X[top_features]\n",
        "\n",
        "# Split the data into training and testing sets\n",
        "X_train_top, X_test_top, y_train, y_test = train_test_split(X_top, y, test_size=0.2, random_state=42)\n",
        "\n",
        "\n",
        "# 랜덤 포레스트 모델 생성 및 학습\n",
        "rf_model_top = RandomForestClassifier(n_estimators=100, random_state=42)\n",
        "rf_model_top.fit(X_train_top, y_train)\n",
        "\n",
        "# 테스트 데이터로 예측\n",
        "y_pred_top = rf_model_top.predict(X_test_top)\n",
        "\n",
        "# 정확도 출력\n",
        "accuracy_top = accuracy_score(y_test, y_pred_top)\n",
        "print(f'Accuracy: {accuracy_top}')"
      ],
      "metadata": {
        "colab": {
          "base_uri": "https://localhost:8080/"
        },
        "id": "s_7GQB4Os5Nd",
        "outputId": "fb952e86-d3f5-417b-e1ba-34b639ef45bb"
      },
      "execution_count": 18,
      "outputs": [
        {
          "output_type": "stream",
          "name": "stdout",
          "text": [
            "Accuracy: 0.7315789473684211\n"
          ]
        }
      ]
    },
    {
      "cell_type": "markdown",
      "source": [
        "튜닝 후 - feature drop"
      ],
      "metadata": {
        "id": "rJuf_App0skG"
      }
    },
    {
      "cell_type": "code",
      "source": [
        "# Hyperparameter grid for tuning\n",
        "param_grid = {\n",
        "    'n_estimators': [50, 100, 200],\n",
        "    'max_depth': [None, 10, 20, 30],\n",
        "    'min_samples_split': [2, 5, 10],\n",
        "    'min_samples_leaf': [1, 2, 4]\n",
        "}\n",
        "\n",
        "# Create a RandomForestClassifier\n",
        "rf_model_top = RandomForestClassifier(random_state=42)\n",
        "\n",
        "# Create the GridSearchCV object\n",
        "grid_search_top = GridSearchCV(estimator=rf_model_top, param_grid=param_grid, cv=3, scoring='accuracy', n_jobs=-1)\n",
        "\n",
        "# Fit the grid search to the data\n",
        "grid_search_top.fit(X_train_top, y_train)\n",
        "\n",
        "# Get the best parameters and model\n",
        "best_params_top = grid_search_top.best_params_\n",
        "best_rf_model_top = grid_search_top.best_estimator_\n",
        "\n",
        "# Print the best parameters\n",
        "print(f\"Best Parameters: {best_params_top}\")\n",
        "\n",
        "# Predict using the best model\n",
        "y_pred_top = best_rf_model_top.predict(X_test_top)\n",
        "\n",
        "# Calculate accuracy for the top features\n",
        "accuracy_top = accuracy_score(y_test, y_pred_top)\n",
        "print(f'Accuracy: {accuracy_top}')"
      ],
      "metadata": {
        "colab": {
          "base_uri": "https://localhost:8080/"
        },
        "id": "LB1ISj3ruA6X",
        "outputId": "0a6d1180-c4b2-4fed-f440-0a9bb6dd7416"
      },
      "execution_count": 20,
      "outputs": [
        {
          "output_type": "stream",
          "name": "stderr",
          "text": [
            "/usr/local/lib/python3.10/dist-packages/joblib/externals/loky/process_executor.py:752: UserWarning: A worker stopped while some jobs were given to the executor. This can be caused by a too short worker timeout or by a memory leak.\n",
            "  warnings.warn(\n"
          ]
        },
        {
          "output_type": "stream",
          "name": "stdout",
          "text": [
            "Best Parameters: {'max_depth': 30, 'min_samples_leaf': 1, 'min_samples_split': 2, 'n_estimators': 200}\n",
            "Accuracy: 0.7410526315789474\n"
          ]
        }
      ]
    }
  ]
}