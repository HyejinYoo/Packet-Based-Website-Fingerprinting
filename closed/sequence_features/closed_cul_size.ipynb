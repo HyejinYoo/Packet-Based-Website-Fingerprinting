{
 "cells": [
  {
   "cell_type": "code",
   "execution_count": 1,
   "id": "bf2c12eb",
   "metadata": {},
   "outputs": [
    {
     "name": "stdout",
     "output_type": "stream",
     "text": [
      "데이터 로딩 중...\n"
     ]
    }
   ],
   "source": [
    "import pickle\n",
    "from sklearn.metrics import accuracy_score\n",
    "import numpy as np\n",
    "from sklearn.model_selection import train_test_split\n",
    "\n",
    "from sklearn.svm import SVC\n",
    "from sklearn.ensemble import RandomForestClassifier\n",
    "from sklearn.neighbors import KNeighborsClassifier\n",
    "from sklearn.preprocessing import StandardScaler\n",
    "\n",
    "USE_SUBLABEL = False\n",
    "URL_PER_SITE = 10\n",
    "TOTAL_URLS   = 950\n",
    "\n",
    "print(\"데이터 로딩 중...\")\n",
    "file_path = \"mon_standard.pkl\"\n",
    "with open(file_path, 'rb') as fi:\n",
    "    data = pickle.load(fi)"
   ]
  },
  {
   "cell_type": "code",
   "execution_count": 2,
   "id": "1a999991",
   "metadata": {},
   "outputs": [],
   "source": [
    "# 데이터 전처리\n",
    "X_cul_size = []\n",
    "y = []\n",
    "for i in range(TOTAL_URLS):\n",
    "    if USE_SUBLABEL:\n",
    "        label = i\n",
    "    else:\n",
    "        label = i // URL_PER_SITE\n",
    "\n",
    "    for sample in data[i]:\n",
    "        cul_size_seq = []\n",
    "        cumulative_size = 0\n",
    "        for index, c in enumerate(sample):\n",
    "            dr = 1 if c > 0 else -1\n",
    "            cumulative_size += dr * 512\n",
    "            cul_size_seq.append(cumulative_size)        \n",
    "        X_cul_size.append(cul_size_seq)\n",
    "        y.append(label)\n",
    "\n",
    "# 각 배열의 길이를 최대 길이에 맞춰 늘리고 부족한 부분은 0으로 채웁니다.\n",
    "max_length = max(len(arr) for arr in X_cul_size)\n",
    "\n",
    "def pad_sequence(sequence, max_length):\n",
    "    return sequence + [0] * (max_length - len(sequence))\n",
    "\n",
    "X_cul_size_padded = [pad_sequence(arr, max_length) for arr in X_cul_size]\n",
    "\n",
    "X_cul_size_array = np.array(X_cul_size_padded)\n",
    "X_train_cul_size, X_test_cul_size, y_train_cul_size, y_test_cul_size = train_test_split(X_cul_size_array, y, test_size=0.2, random_state=42)\n",
    "\n",
    "# StandardScaler를 사용하여 X_cul_size 데이터 정규화\n",
    "scaler = StandardScaler()\n",
    "X_train_cul_size_scaled = scaler.fit_transform(X_train_cul_size)\n",
    "X_test_cul_size_scaled = scaler.transform(X_test_cul_size)"
   ]
  },
  {
   "cell_type": "code",
   "execution_count": 4,
   "id": "afc48b3e",
   "metadata": {},
   "outputs": [
    {
     "name": "stdout",
     "output_type": "stream",
     "text": [
      "svm 모델 정확도 (X_cul_size): 84.03%\n"
     ]
    }
   ],
   "source": [
    "# SVM 모델 학습 및 평가\n",
    "svm_model_cul_size = SVC(kernel='linear', C=1.0, random_state=42)\n",
    "svm_model_cul_size.fit(X_train_cul_size_scaled, y_train_cul_size)\n",
    "\n",
    "y_pred_svm_cul_size = svm_model_cul_size.predict(X_test_cul_size_scaled)\n",
    "accuracy_svm_cul_size = accuracy_score(y_test_cul_size, y_pred_svm_cul_size)\n",
    "\n",
    "print(f\"svm 모델 정확도 (X_cul_size): {accuracy_svm_cul_size * 100:.2f}%\")"
   ]
  },
  {
   "cell_type": "code",
   "execution_count": 5,
   "id": "6dcb17a5",
   "metadata": {},
   "outputs": [
    {
     "name": "stdout",
     "output_type": "stream",
     "text": [
      "랜덤 포레스트 모델 정확도 (cul_size): 91.82%\n"
     ]
    }
   ],
   "source": [
    "# rf\n",
    "rf_model_cul_size = RandomForestClassifier(n_estimators=100, random_state=42)\n",
    "rf_model_cul_size.fit(X_train_cul_size_scaled, y_train_cul_size)\n",
    "\n",
    "y_pred_rf_cul_size = rf_model_cul_size.predict(X_test_cul_size_scaled)\n",
    "accuracy_rf_cul_size = accuracy_score(y_test_cul_size, y_pred_rf_cul_size)\n",
    "print(f\"랜덤 포레스트 모델 정확도 (cul_size): {accuracy_rf_cul_size * 100:.2f}%\")"
   ]
  },
  {
   "cell_type": "code",
   "execution_count": 6,
   "id": "534d5906",
   "metadata": {},
   "outputs": [
    {
     "name": "stdout",
     "output_type": "stream",
     "text": [
      "KNN 모델 정확도 (X_cul_size): 69.08%\n"
     ]
    }
   ],
   "source": [
    "# KNN \n",
    "knn_model_cul_size = KNeighborsClassifier(n_neighbors=5)\n",
    "knn_model_cul_size.fit(X_train_cul_size_scaled, y_train_cul_size)\n",
    "\n",
    "y_pred_knn_cul_size = knn_model_cul_size.predict(X_test_cul_size_scaled)\n",
    "\n",
    "accuracy_knn_cul_size = accuracy_score(y_test_cul_size, y_pred_knn_cul_size)\n",
    "print(f\"KNN 모델 정확도 (X_cul_size): {accuracy_knn_cul_size * 100:.2f}%\")"
   ]
  }
 ],
 "metadata": {
  "kernelspec": {
   "display_name": "Python 3 (ipykernel)",
   "language": "python",
   "name": "python3"
  },
  "language_info": {
   "codemirror_mode": {
    "name": "ipython",
    "version": 3
   },
   "file_extension": ".py",
   "mimetype": "text/x-python",
   "name": "python",
   "nbconvert_exporter": "python",
   "pygments_lexer": "ipython3",
   "version": "3.11.5"
  }
 },
 "nbformat": 4,
 "nbformat_minor": 5
}
