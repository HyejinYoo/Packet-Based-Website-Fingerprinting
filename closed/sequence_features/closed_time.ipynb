{
 "cells": [
  {
   "cell_type": "code",
   "execution_count": 1,
   "id": "22879dd5",
   "metadata": {},
   "outputs": [
    {
     "name": "stdout",
     "output_type": "stream",
     "text": [
      "데이터 로딩 중...\n"
     ]
    }
   ],
   "source": [
    "import pickle\n",
    "from sklearn.metrics import accuracy_score\n",
    "import numpy as np\n",
    "from sklearn.model_selection import train_test_split\n",
    "\n",
    "from sklearn.svm import SVC\n",
    "from sklearn.ensemble import RandomForestClassifier\n",
    "from sklearn.neighbors import KNeighborsClassifier\n",
    "from sklearn.preprocessing import StandardScaler\n",
    "from sklearn.model_selection import GridSearchCV\n",
    "\n",
    "USE_SUBLABEL = False\n",
    "URL_PER_SITE = 10\n",
    "TOTAL_URLS   = 950\n",
    "\n",
    "print(\"데이터 로딩 중...\")\n",
    "file_path = \"mon_standard.pkl\"\n",
    "with open(file_path, 'rb') as fi:\n",
    "    data = pickle.load(fi)\n"
   ]
  },
  {
   "cell_type": "code",
   "execution_count": 4,
   "id": "29ef2ac7",
   "metadata": {},
   "outputs": [],
   "source": [
    "# 데이터 전처리\n",
    "X_time = []\n",
    "y = []\n",
    "for i in range(TOTAL_URLS):\n",
    "    if USE_SUBLABEL:\n",
    "        label = i\n",
    "    else:\n",
    "        label = i // URL_PER_SITE\n",
    "\n",
    "    for sample in data[i]:\n",
    "        time_seq = []\n",
    "        cumulative_size = 0\n",
    "        for index, c in enumerate(sample):\n",
    "            time_seq.append(abs(c))\n",
    "        X_time.append(time_seq)\n",
    "        y.append(label)\n",
    "\n",
    "# 각 배열의 길이를 최대 길이에 맞춰 늘리고 부족한 부분은 0으로 채웁니다.\n",
    "max_length = max(len(arr) for arr in X_time)\n",
    "\n",
    "def pad_sequence(sequence, max_length):\n",
    "    return sequence + [0] * (max_length - len(sequence))\n",
    "\n",
    "X_time_padded = [pad_sequence(arr, max_length) for arr in X_time]\n",
    "\n",
    "X_time_array = np.array(X_time_padded)\n",
    "X_train_time, X_test_time, y_train_time, y_test_time = train_test_split(X_time_array, y, test_size=0.2, random_state=42)\n",
    "\n",
    "# StandardScaler를 사용하여 X_time 데이터 정규화\n",
    "scaler = StandardScaler()\n",
    "X_train_time_scaled = scaler.fit_transform(X_train_time)\n",
    "X_test_time_scaled = scaler.transform(X_test_time)"
   ]
  },
  {
   "cell_type": "code",
   "execution_count": 3,
   "id": "57bdc5f2",
   "metadata": {},
   "outputs": [
    {
     "name": "stdout",
     "output_type": "stream",
     "text": [
      "svm 모델 정확도 (X_time): 50.21%\n"
     ]
    }
   ],
   "source": [
    "# svm\n",
    "svm_model_time = SVC(kernel='linear', C=1.0, random_state=42)\n",
    "svm_model_time.fit(X_train_time_scaled, y_train_time)\n",
    "\n",
    "y_pred_svm_time = svm_model_time.predict(X_test_time_scaled)\n",
    "accuracy_svm_time = accuracy_score(y_test_time, y_pred_svm_time)\n",
    "\n",
    "print(f\"svm 모델 정확도 (X_time): {accuracy_svm_time * 100:.2f}%\")"
   ]
  },
  {
   "cell_type": "code",
   "execution_count": 4,
   "id": "ad98e5d9",
   "metadata": {},
   "outputs": [
    {
     "name": "stdout",
     "output_type": "stream",
     "text": [
      "랜덤 포레스트 모델 정확도 (time): 45.61%\n"
     ]
    }
   ],
   "source": [
    "# rf\n",
    "rf_model_time = RandomForestClassifier(n_estimators=100, random_state=42)\n",
    "rf_model_time.fit(X_train_time_scaled, y_train_time)\n",
    "\n",
    "y_pred_rf_time = rf_model_time.predict(X_test_time_scaled)\n",
    "accuracy_rf_time = accuracy_score(y_test_time, y_pred_rf_time)\n",
    "print(f\"랜덤 포레스트 모델 정확도 (time): {accuracy_rf_time * 100:.2f}%\")"
   ]
  },
  {
   "cell_type": "code",
   "execution_count": 5,
   "id": "4ad3f78e",
   "metadata": {},
   "outputs": [
    {
     "name": "stdout",
     "output_type": "stream",
     "text": [
      "KNN 모델 정확도 (X_time): 32.32%\n"
     ]
    }
   ],
   "source": [
    "# knn\n",
    "knn_model_time = KNeighborsClassifier(n_neighbors=5)\n",
    "knn_model_time.fit(X_train_time_scaled, y_train_time)\n",
    "\n",
    "y_pred_knn_time = knn_model_time.predict(X_test_time_scaled)\n",
    "\n",
    "accuracy_knn_time = accuracy_score(y_test_time, y_pred_knn_time)\n",
    "print(f\"KNN 모델 정확도 (X_time): {accuracy_knn_time * 100:.2f}%\")"
   ]
  }
 ],
 "metadata": {
  "kernelspec": {
   "display_name": "Python 3 (ipykernel)",
   "language": "python",
   "name": "python3"
  },
  "language_info": {
   "codemirror_mode": {
    "name": "ipython",
    "version": 3
   },
   "file_extension": ".py",
   "mimetype": "text/x-python",
   "name": "python",
   "nbconvert_exporter": "python",
   "pygments_lexer": "ipython3",
   "version": "3.11.5"
  }
 },
 "nbformat": 4,
 "nbformat_minor": 5
}
