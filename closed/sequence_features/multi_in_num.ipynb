{
  "cells": [
    {
      "cell_type": "code",
      "execution_count": null,
      "metadata": {
        "colab": {
          "base_uri": "https://localhost:8080/"
        },
        "id": "dIJmAbAFD0Bl",
        "outputId": "b538950d-aa21-4575-c30d-6b831c39011b"
      },
      "outputs": [
        {
          "output_type": "stream",
          "name": "stdout",
          "text": [
            "데이터 로딩 중...\n",
            "Mounted at /content/drive\n"
          ]
        }
      ],
      "source": [
        "import pickle\n",
        "from google.colab import drive\n",
        "from sklearn.metrics import accuracy_score\n",
        "import numpy as np\n",
        "from sklearn.model_selection import train_test_split\n",
        "\n",
        "from sklearn.svm import SVC\n",
        "from sklearn.ensemble import RandomForestClassifier\n",
        "from sklearn.neighbors import KNeighborsClassifier\n",
        "from sklearn.preprocessing import StandardScaler\n",
        "\n",
        "USE_SUBLABEL = False\n",
        "URL_PER_SITE = 10\n",
        "TOTAL_URLS   = 950\n",
        "\n",
        "\n",
        "print(\"데이터 로딩 중...\")\n",
        "drive.mount('/content/drive')\n",
        "file_path = \"/content/drive/My Drive/Colab Notebooks/mon_standard.pkl\"\n",
        "with open(file_path, 'rb') as fi:\n",
        "    data = pickle.load(fi)"
      ]
    },
    {
      "cell_type": "code",
      "execution_count": null,
      "metadata": {
        "id": "k-koSlu0Dp5c"
      },
      "outputs": [],
      "source": [
        "# 데이터 전처리\n",
        "X_in_num = []\n",
        "y = []\n",
        "for i in range(TOTAL_URLS):\n",
        "    if USE_SUBLABEL:\n",
        "        label = i\n",
        "    else:\n",
        "        label = i // URL_PER_SITE\n",
        "    for sample in data[i]:\n",
        "        in_num = 0\n",
        "        for index, c in enumerate(sample):\n",
        "            dr = 1 if c > 0 else -1\n",
        "            if dr == -1:\n",
        "                in_num += 1;\n",
        "        X_in_num.append(in_num)\n",
        "        y.append(label)\n",
        "\n",
        "\n",
        "# 2D 배열로 변환\n",
        "X_in_num_array = np.array(X_in_num).reshape(-1, 1)\n",
        "\n",
        "# 데이터를 학습 및 테스트 세트로 나눔\n",
        "X_train_in_num, X_test_in_num, y_train_in_num, y_test_in_num = train_test_split(X_in_num_array, y, test_size=0.2, random_state=42)\n",
        "\n",
        "# StandardScaler를 사용하여 X_in_num 데이터 정규화\n",
        "scaler = StandardScaler()\n",
        "X_train_in_num_scaled = scaler.fit_transform(X_train_in_num)\n",
        "X_test_in_num_scaled = scaler.transform(X_test_in_num)"
      ]
    },
    {
      "cell_type": "code",
      "source": [
        "#svm\n",
        "svm_model_in_num = SVC(kernel='linear', C=1.0, random_state=42)\n",
        "svm_model_in_num.fit(X_train_in_num_scaled, y_train_in_num)\n",
        "\n",
        "y_pred_svm_in_num = svm_model_in_num.predict(X_test_in_num_scaled)\n",
        "accuracy_svm_in_num = accuracy_score(y_test_in_num, y_pred_svm_in_num)\n",
        "\n",
        "print(f\"svm 모델 정확도 (X_in_num): {accuracy_svm_in_num * 100:.2f}%\")"
      ],
      "metadata": {
        "colab": {
          "base_uri": "https://localhost:8080/"
        },
        "id": "E2RbJGqdP8dI",
        "outputId": "5d826ad4-d0a9-4f5f-b1b3-b808acdf9b34"
      },
      "execution_count": null,
      "outputs": [
        {
          "output_type": "stream",
          "name": "stdout",
          "text": [
            "svm 모델 정확도 (X_in_num): 4.74%\n"
          ]
        }
      ]
    },
    {
      "cell_type": "code",
      "source": [
        "from sklearn.model_selection import GridSearchCV\n",
        "# 튜닝할 하이퍼파라미터 설정\n",
        "param_grid = {\n",
        "    'C': [10, 100],  # C 값 튜닝\n",
        "    'gamma': [0.1, 1.0],  # gamma 값 튜닝\n",
        "    'kernel': ['linear', 'rbf'],  # 커널 튜닝\n",
        "}\n",
        "\n",
        "# 그리드 서치를 사용하여 최적의 파라미터 찾기\n",
        "grid_search = GridSearchCV(SVC(random_state=42), param_grid, cv=5)\n",
        "grid_search.fit(X_train_in_num_scaled, y_train_in_num)\n",
        "\n",
        "# 최적의 파라미터 출력\n",
        "print(\"최적의 하이퍼파라미터:\", grid_search.best_params_)\n",
        "\n",
        "# 최적의 모델 얻기\n",
        "best_svm_model_in_num = grid_search.best_estimator_\n",
        "\n",
        "# 최적의 모델로 예측 및 정확도 계산\n",
        "y_pred_best_svm_in_num = best_svm_model_in_num.predict(X_test_in_num_scaled)\n",
        "accuracy_best_svm_in_num = accuracy_score(y_test_in_num, y_pred_best_svm_in_num)\n",
        "print(f\"튜닝 후 SVM 모델 정확도 (X_in_num): {accuracy_best_svm_in_num * 100:.2f}%\")"
      ],
      "metadata": {
        "colab": {
          "base_uri": "https://localhost:8080/"
        },
        "id": "H6K6amP6MQ6e",
        "outputId": "57b1334c-882c-4586-fc84-aac98ab29e1b"
      },
      "execution_count": null,
      "outputs": [
        {
          "output_type": "stream",
          "name": "stdout",
          "text": [
            "최적의 하이퍼파라미터: {'C': 100, 'gamma': 1.0, 'kernel': 'rbf'}\n",
            "튜닝 후 SVM 모델 정확도 (X_in_num): 11.74%\n"
          ]
        }
      ]
    },
    {
      "cell_type": "code",
      "source": [
        "# rf\n",
        "rf_model_in_num = RandomForestClassifier(n_estimators=100, random_state=42)\n",
        "rf_model_in_num.fit(X_train_in_num_scaled, y_train_in_num)\n",
        "\n",
        "y_pred_rf_in_num = rf_model_in_num.predict(X_test_in_num_scaled)\n",
        "accuracy_rf_in_num = accuracy_score(y_test_in_num, y_pred_rf_in_num)\n",
        "print(f\"랜덤 포레스트 모델 정확도 (in_num): {accuracy_rf_in_num * 100:.2f}%\")"
      ],
      "metadata": {
        "colab": {
          "base_uri": "https://localhost:8080/"
        },
        "id": "XLxv8XlkOHZm",
        "outputId": "690f001a-2169-4992-d426-39eadc2fc10c"
      },
      "execution_count": null,
      "outputs": [
        {
          "output_type": "stream",
          "name": "stdout",
          "text": [
            "랜덤 포레스트 모델 정확도 (in_num): 14.92%\n"
          ]
        }
      ]
    },
    {
      "cell_type": "code",
      "source": [
        "# 튜닝할 하이퍼파라미터 설정\n",
        "param_grid_rf = {\n",
        "    'n_estimators': [50, 100],\n",
        "    'max_depth': [None, 10],\n",
        "    'min_samples_split': [2, 5],\n",
        "}\n",
        "\n",
        "# 그리드 서치를 사용하여 최적의 파라미터 찾기\n",
        "grid_search_rf = GridSearchCV(RandomForestClassifier(random_state=42), param_grid_rf, cv=5)\n",
        "grid_search_rf.fit(X_train_in_num_scaled, y_train_in_num)\n",
        "\n",
        "# 최적의 파라미터 출력\n",
        "print(\"최적의 하이퍼파라미터:\", grid_search_rf.best_params_)\n",
        "\n",
        "# 최적의 모델 얻기\n",
        "best_rf_model_in_num = grid_search_rf.best_estimator_\n",
        "\n",
        "# 최적의 모델로 예측 및 정확도 계산\n",
        "y_pred_best_rf_in_num = best_rf_model_in_num.predict(X_test_in_num_scaled)\n",
        "accuracy_best_rf_in_num = accuracy_score(y_test_in_num, y_pred_best_rf_in_num)\n",
        "print(f\"튜닝 후 랜덤 포레스트 모델 정확도 (in_num): {accuracy_best_rf_in_num * 100:.2f}%\")"
      ],
      "metadata": {
        "colab": {
          "base_uri": "https://localhost:8080/"
        },
        "id": "xx-jICez68AE",
        "outputId": "05e6f420-2754-4403-807c-480c5c5bdbe5"
      },
      "execution_count": null,
      "outputs": [
        {
          "output_type": "stream",
          "name": "stdout",
          "text": [
            "최적의 하이퍼파라미터: {'max_depth': 10, 'min_samples_split': 5, 'n_estimators': 100}\n",
            "튜닝 후 랜덤 포레스트 모델 정확도 (in_num): 21.03%\n"
          ]
        }
      ]
    },
    {
      "cell_type": "code",
      "source": [
        "# knn\n",
        "knn_model_in_num = KNeighborsClassifier(n_neighbors=5)\n",
        "knn_model_in_num.fit(X_train_in_num_scaled, y_train_in_num)\n",
        "\n",
        "y_pred_knn_in_num = knn_model_in_num.predict(X_test_in_num_scaled)\n",
        "\n",
        "accuracy_knn_in_num = accuracy_score(y_test_in_num, y_pred_knn_in_num)\n",
        "print(f\"KNN 모델 정확도 (X_in_num): {accuracy_knn_in_num * 100:.2f}%\")"
      ],
      "metadata": {
        "id": "X5WJRU3hLlUg",
        "colab": {
          "base_uri": "https://localhost:8080/"
        },
        "outputId": "13008826-317c-4ffa-9438-1497c6f1063b"
      },
      "execution_count": null,
      "outputs": [
        {
          "output_type": "stream",
          "name": "stdout",
          "text": [
            "KNN 모델 정확도 (X_in_num): 16.55%\n"
          ]
        }
      ]
    },
    {
      "cell_type": "code",
      "execution_count": null,
      "metadata": {
        "colab": {
          "base_uri": "https://localhost:8080/"
        },
        "id": "yZryVQNoCv0o",
        "outputId": "44a4cc6b-05c7-4828-876e-cb64057a238b"
      },
      "outputs": [
        {
          "output_type": "stream",
          "name": "stdout",
          "text": [
            "최적의 하이퍼파라미터: {'n_neighbors': 9}\n",
            "튜닝 후 KNN 모델 정확도 (X_in_num): 18.18%\n"
          ]
        }
      ],
      "source": [
        "# 튜닝할 하이퍼파라미터 설정\n",
        "param_grid_knn = {\n",
        "    'n_neighbors': [3, 5, 7, 9],  # 이웃의 개수 튜닝\n",
        "}\n",
        "\n",
        "# 그리드 서치를 사용하여 최적의 파라미터 찾기\n",
        "grid_search_knn = GridSearchCV(KNeighborsClassifier(), param_grid_knn, cv=5)\n",
        "grid_search_knn.fit(X_train_in_num_scaled, y_train_in_num)\n",
        "\n",
        "# 최적의 파라미터 출력\n",
        "print(\"최적의 하이퍼파라미터:\", grid_search_knn.best_params_)\n",
        "\n",
        "# 최적의 모델 얻기\n",
        "best_knn_model_in_num = grid_search_knn.best_estimator_\n",
        "\n",
        "# 최적의 모델로 예측 및 정확도 계산\n",
        "y_pred_best_knn_in_num = best_knn_model_in_num.predict(X_test_in_num_scaled)\n",
        "accuracy_best_knn_in_num = accuracy_score(y_test_in_num, y_pred_best_knn_in_num)\n",
        "print(f\"튜닝 후 KNN 모델 정확도 (X_in_num): {accuracy_best_knn_in_num * 100:.2f}%\")"
      ]
    }
  ],
  "metadata": {
    "colab": {
      "provenance": [],
      "gpuType": "T4"
    },
    "kernelspec": {
      "display_name": "Python 3",
      "name": "python3"
    },
    "language_info": {
      "name": "python"
    },
    "accelerator": "GPU"
  },
  "nbformat": 4,
  "nbformat_minor": 0
}
