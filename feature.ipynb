{
 "cells": [
  {
   "cell_type": "markdown",
   "id": "1057bd1b",
   "metadata": {},
   "source": [
    "# closed world feature (timestamp(2) & med(6))"
   ]
  },
  {
   "cell_type": "code",
   "execution_count": null,
   "id": "47b6dd80",
   "metadata": {},
   "outputs": [],
   "source": [
    "import numpy as np\n",
    "\n",
    "USE_SUBLABEL = False\n",
    "URL_PER_SITE = 10\n",
    "TOTAL_URLS = 950\n",
    "timestamp_c = [] #timestamp 2번\n",
    "y_c = []\n",
    "yb_c =[] # 1 로 초기화\n",
    "med_c = [] # med 6번\n",
    "\n",
    "for i in range(TOTAL_URLS):\n",
    "    if USE_SUBLABEL:\n",
    "        label = i\n",
    "    else: #true면\n",
    "        label = i // URL_PER_SITE \n",
    "    for sample in monitored_data[i]:\n",
    "        time_seq = []\n",
    "        med_c_seq = []\n",
    "        time_tmp_seq = []\n",
    "        burst_check=-1\n",
    "        for c in sample:\n",
    "            dr = 1 if c > 0 else -1\n",
    "            time_seq.append(abs(c))\n",
    "            if(burst_check*dr>0) : #양수면 같은 방향이므로 burst 더하기\n",
    "                time_tmp_seq.append(abs(c))\n",
    "            else : #부호가 달라졌다면 이전에 저장한 값 삽입\n",
    "                med_c_seq.append(round(np.median(time_tmp_seq),4))\n",
    "                burst_check= -1*burst_check\n",
    "                time_tmp_seq.clear()\n",
    "                time_tmp_seq.append(abs(c))\n",
    "                \n",
    "        med_c_seq.append(np.median(time_tmp_seq))\n",
    "        med_c.append(med_c_seq)\n",
    "        timestamp_c.append(time_seq)\n",
    "        y_c.append(label)\n",
    "        yb_c.append(1)\n",
    "        \n",
    "size = len(y_c)\n",
    "print(f'Total samples: {size}')"
   ]
  },
  {
   "cell_type": "markdown",
   "id": "c9f3a356",
   "metadata": {},
   "source": [
    "# open world feature (timestamp(2) & med(6))"
   ]
  },
  {
   "cell_type": "code",
   "execution_count": null,
   "id": "aac8d6dc",
   "metadata": {},
   "outputs": [],
   "source": [
    "timestamp_o = []\n",
    "y_o = [] # -1 로 초기화\n",
    "med_o = []\n",
    "for i in range(5000):\n",
    "    time_seq = []\n",
    "    med_o_seq = []\n",
    "    time_tmp_seq = []\n",
    "    burst_check=-1\n",
    "    for c in unmonitored_data[i]:\n",
    "        dr = 1 if c > 0 else -1\n",
    "        time_seq.append(abs(c))\n",
    "        if(burst_check*dr>0) : #양수면 같은 방향이므로 burst 더하기\n",
    "            time_tmp_seq.append(abs(c))\n",
    "        else : #부호가 달라졌다면 이전에 저장한 값 삽입\n",
    "            #burst_seq.append(burst_sum)\n",
    "            med_o_seq.append(round(np.median(time_tmp_seq),4))\n",
    "            burst_check= -1*burst_check\n",
    "            time_tmp_seq.clear()\n",
    "            time_tmp_seq.append(abs(c))\n",
    "                \n",
    "    med_o_seq.append(np.median(time_tmp_seq))    \n",
    "    med_o.append(med_o_seq)\n",
    "    timestamp_o.append(time_seq)\n",
    "    y_o.append(-1)\n"
   ]
  }
 ],
 "metadata": {
  "kernelspec": {
   "display_name": "Python 3 (ipykernel)",
   "language": "python",
   "name": "python3"
  },
  "language_info": {
   "codemirror_mode": {
    "name": "ipython",
    "version": 3
   },
   "file_extension": ".py",
   "mimetype": "text/x-python",
   "name": "python",
   "nbconvert_exporter": "python",
   "pygments_lexer": "ipython3",
   "version": "3.11.4"
  }
 },
 "nbformat": 4,
 "nbformat_minor": 5
}
